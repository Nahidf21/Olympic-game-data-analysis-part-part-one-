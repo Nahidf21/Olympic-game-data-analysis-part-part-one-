{
 "cells": [
  {
   "cell_type": "code",
   "execution_count": 1,
   "id": "7af5bba5",
   "metadata": {},
   "outputs": [],
   "source": [
    "import pandas as pd\n",
    "import seaborn as sns"
   ]
  },
  {
   "cell_type": "code",
   "execution_count": 2,
   "id": "0a17e3f8",
   "metadata": {},
   "outputs": [
    {
     "data": {
      "text/plain": [
       "pandas.core.frame.DataFrame"
      ]
     },
     "execution_count": 2,
     "metadata": {},
     "output_type": "execute_result"
    }
   ],
   "source": [
    "oly_data=pd.read_csv('athlete_events3.csv')\n",
    "type(oly_data)"
   ]
  },
  {
   "cell_type": "code",
   "execution_count": 3,
   "id": "a53595b7",
   "metadata": {},
   "outputs": [
    {
     "data": {
      "text/html": [
       "<div>\n",
       "<style scoped>\n",
       "    .dataframe tbody tr th:only-of-type {\n",
       "        vertical-align: middle;\n",
       "    }\n",
       "\n",
       "    .dataframe tbody tr th {\n",
       "        vertical-align: top;\n",
       "    }\n",
       "\n",
       "    .dataframe thead th {\n",
       "        text-align: right;\n",
       "    }\n",
       "</style>\n",
       "<table border=\"1\" class=\"dataframe\">\n",
       "  <thead>\n",
       "    <tr style=\"text-align: right;\">\n",
       "      <th></th>\n",
       "      <th>ID</th>\n",
       "      <th>Name</th>\n",
       "      <th>Sex</th>\n",
       "      <th>Age</th>\n",
       "      <th>Height</th>\n",
       "      <th>Weight</th>\n",
       "      <th>Team</th>\n",
       "      <th>NOC</th>\n",
       "      <th>Games</th>\n",
       "      <th>Year</th>\n",
       "      <th>Season</th>\n",
       "      <th>City</th>\n",
       "      <th>Sport</th>\n",
       "      <th>Event</th>\n",
       "      <th>Medal</th>\n",
       "    </tr>\n",
       "  </thead>\n",
       "  <tbody>\n",
       "    <tr>\n",
       "      <th>0</th>\n",
       "      <td>1</td>\n",
       "      <td>A Dijiang</td>\n",
       "      <td>M</td>\n",
       "      <td>24.0</td>\n",
       "      <td>180.0</td>\n",
       "      <td>80.0</td>\n",
       "      <td>China</td>\n",
       "      <td>CHN</td>\n",
       "      <td>1992 Summer</td>\n",
       "      <td>1992</td>\n",
       "      <td>Summer</td>\n",
       "      <td>Barcelona</td>\n",
       "      <td>Basketball</td>\n",
       "      <td>Basketball Men's Basketball</td>\n",
       "      <td>NaN</td>\n",
       "    </tr>\n",
       "    <tr>\n",
       "      <th>1</th>\n",
       "      <td>2</td>\n",
       "      <td>A Lamusi</td>\n",
       "      <td>M</td>\n",
       "      <td>23.0</td>\n",
       "      <td>170.0</td>\n",
       "      <td>60.0</td>\n",
       "      <td>China</td>\n",
       "      <td>CHN</td>\n",
       "      <td>2012 Summer</td>\n",
       "      <td>2012</td>\n",
       "      <td>Summer</td>\n",
       "      <td>London</td>\n",
       "      <td>Judo</td>\n",
       "      <td>Judo Men's Extra-Lightweight</td>\n",
       "      <td>NaN</td>\n",
       "    </tr>\n",
       "    <tr>\n",
       "      <th>2</th>\n",
       "      <td>3</td>\n",
       "      <td>Gunnar Nielsen Aaby</td>\n",
       "      <td>M</td>\n",
       "      <td>24.0</td>\n",
       "      <td>NaN</td>\n",
       "      <td>NaN</td>\n",
       "      <td>Denmark</td>\n",
       "      <td>DEN</td>\n",
       "      <td>1920 Summer</td>\n",
       "      <td>1920</td>\n",
       "      <td>Summer</td>\n",
       "      <td>Antwerpen</td>\n",
       "      <td>Football</td>\n",
       "      <td>Football Men's Football</td>\n",
       "      <td>NaN</td>\n",
       "    </tr>\n",
       "    <tr>\n",
       "      <th>3</th>\n",
       "      <td>4</td>\n",
       "      <td>Edgar Lindenau Aabye</td>\n",
       "      <td>M</td>\n",
       "      <td>34.0</td>\n",
       "      <td>NaN</td>\n",
       "      <td>NaN</td>\n",
       "      <td>Denmark/Sweden</td>\n",
       "      <td>DEN</td>\n",
       "      <td>1900 Summer</td>\n",
       "      <td>1900</td>\n",
       "      <td>Summer</td>\n",
       "      <td>Paris</td>\n",
       "      <td>Tug-Of-War</td>\n",
       "      <td>Tug-Of-War Men's Tug-Of-War</td>\n",
       "      <td>Gold</td>\n",
       "    </tr>\n",
       "    <tr>\n",
       "      <th>4</th>\n",
       "      <td>5</td>\n",
       "      <td>Christine Jacoba Aaftink</td>\n",
       "      <td>F</td>\n",
       "      <td>21.0</td>\n",
       "      <td>185.0</td>\n",
       "      <td>82.0</td>\n",
       "      <td>Netherlands</td>\n",
       "      <td>NED</td>\n",
       "      <td>1988 Winter</td>\n",
       "      <td>1988</td>\n",
       "      <td>Winter</td>\n",
       "      <td>Calgary</td>\n",
       "      <td>Speed Skating</td>\n",
       "      <td>Speed Skating Women's 500 metres</td>\n",
       "      <td>NaN</td>\n",
       "    </tr>\n",
       "    <tr>\n",
       "      <th>...</th>\n",
       "      <td>...</td>\n",
       "      <td>...</td>\n",
       "      <td>...</td>\n",
       "      <td>...</td>\n",
       "      <td>...</td>\n",
       "      <td>...</td>\n",
       "      <td>...</td>\n",
       "      <td>...</td>\n",
       "      <td>...</td>\n",
       "      <td>...</td>\n",
       "      <td>...</td>\n",
       "      <td>...</td>\n",
       "      <td>...</td>\n",
       "      <td>...</td>\n",
       "      <td>...</td>\n",
       "    </tr>\n",
       "    <tr>\n",
       "      <th>271111</th>\n",
       "      <td>135569</td>\n",
       "      <td>Andrzej ya</td>\n",
       "      <td>M</td>\n",
       "      <td>29.0</td>\n",
       "      <td>179.0</td>\n",
       "      <td>89.0</td>\n",
       "      <td>Poland-1</td>\n",
       "      <td>POL</td>\n",
       "      <td>1976 Winter</td>\n",
       "      <td>1976</td>\n",
       "      <td>Winter</td>\n",
       "      <td>Innsbruck</td>\n",
       "      <td>Luge</td>\n",
       "      <td>Luge Mixed (Men)'s Doubles</td>\n",
       "      <td>NaN</td>\n",
       "    </tr>\n",
       "    <tr>\n",
       "      <th>271112</th>\n",
       "      <td>135570</td>\n",
       "      <td>Piotr ya</td>\n",
       "      <td>M</td>\n",
       "      <td>27.0</td>\n",
       "      <td>176.0</td>\n",
       "      <td>59.0</td>\n",
       "      <td>Poland</td>\n",
       "      <td>POL</td>\n",
       "      <td>2014 Winter</td>\n",
       "      <td>2014</td>\n",
       "      <td>Winter</td>\n",
       "      <td>Sochi</td>\n",
       "      <td>Ski Jumping</td>\n",
       "      <td>Ski Jumping Men's Large Hill, Individual</td>\n",
       "      <td>NaN</td>\n",
       "    </tr>\n",
       "    <tr>\n",
       "      <th>271113</th>\n",
       "      <td>135570</td>\n",
       "      <td>Piotr ya</td>\n",
       "      <td>M</td>\n",
       "      <td>27.0</td>\n",
       "      <td>176.0</td>\n",
       "      <td>59.0</td>\n",
       "      <td>Poland</td>\n",
       "      <td>POL</td>\n",
       "      <td>2014 Winter</td>\n",
       "      <td>2014</td>\n",
       "      <td>Winter</td>\n",
       "      <td>Sochi</td>\n",
       "      <td>Ski Jumping</td>\n",
       "      <td>Ski Jumping Men's Large Hill, Team</td>\n",
       "      <td>NaN</td>\n",
       "    </tr>\n",
       "    <tr>\n",
       "      <th>271114</th>\n",
       "      <td>135571</td>\n",
       "      <td>Tomasz Ireneusz ya</td>\n",
       "      <td>M</td>\n",
       "      <td>30.0</td>\n",
       "      <td>185.0</td>\n",
       "      <td>96.0</td>\n",
       "      <td>Poland</td>\n",
       "      <td>POL</td>\n",
       "      <td>1998 Winter</td>\n",
       "      <td>1998</td>\n",
       "      <td>Winter</td>\n",
       "      <td>Nagano</td>\n",
       "      <td>Bobsleigh</td>\n",
       "      <td>Bobsleigh Men's Four</td>\n",
       "      <td>NaN</td>\n",
       "    </tr>\n",
       "    <tr>\n",
       "      <th>271115</th>\n",
       "      <td>135571</td>\n",
       "      <td>Tomasz Ireneusz ya</td>\n",
       "      <td>M</td>\n",
       "      <td>34.0</td>\n",
       "      <td>185.0</td>\n",
       "      <td>96.0</td>\n",
       "      <td>Poland</td>\n",
       "      <td>POL</td>\n",
       "      <td>2002 Winter</td>\n",
       "      <td>2002</td>\n",
       "      <td>Winter</td>\n",
       "      <td>Salt Lake City</td>\n",
       "      <td>Bobsleigh</td>\n",
       "      <td>Bobsleigh Men's Four</td>\n",
       "      <td>NaN</td>\n",
       "    </tr>\n",
       "  </tbody>\n",
       "</table>\n",
       "<p>271116 rows × 15 columns</p>\n",
       "</div>"
      ],
      "text/plain": [
       "            ID                      Name Sex   Age  Height  Weight  \\\n",
       "0            1                 A Dijiang   M  24.0   180.0    80.0   \n",
       "1            2                  A Lamusi   M  23.0   170.0    60.0   \n",
       "2            3       Gunnar Nielsen Aaby   M  24.0     NaN     NaN   \n",
       "3            4      Edgar Lindenau Aabye   M  34.0     NaN     NaN   \n",
       "4            5  Christine Jacoba Aaftink   F  21.0   185.0    82.0   \n",
       "...        ...                       ...  ..   ...     ...     ...   \n",
       "271111  135569                Andrzej ya   M  29.0   179.0    89.0   \n",
       "271112  135570                  Piotr ya   M  27.0   176.0    59.0   \n",
       "271113  135570                  Piotr ya   M  27.0   176.0    59.0   \n",
       "271114  135571        Tomasz Ireneusz ya   M  30.0   185.0    96.0   \n",
       "271115  135571        Tomasz Ireneusz ya   M  34.0   185.0    96.0   \n",
       "\n",
       "                  Team  NOC        Games  Year  Season            City  \\\n",
       "0                China  CHN  1992 Summer  1992  Summer       Barcelona   \n",
       "1                China  CHN  2012 Summer  2012  Summer          London   \n",
       "2              Denmark  DEN  1920 Summer  1920  Summer       Antwerpen   \n",
       "3       Denmark/Sweden  DEN  1900 Summer  1900  Summer           Paris   \n",
       "4          Netherlands  NED  1988 Winter  1988  Winter         Calgary   \n",
       "...                ...  ...          ...   ...     ...             ...   \n",
       "271111        Poland-1  POL  1976 Winter  1976  Winter       Innsbruck   \n",
       "271112          Poland  POL  2014 Winter  2014  Winter           Sochi   \n",
       "271113          Poland  POL  2014 Winter  2014  Winter           Sochi   \n",
       "271114          Poland  POL  1998 Winter  1998  Winter          Nagano   \n",
       "271115          Poland  POL  2002 Winter  2002  Winter  Salt Lake City   \n",
       "\n",
       "                Sport                                     Event Medal  \n",
       "0          Basketball               Basketball Men's Basketball   NaN  \n",
       "1                Judo              Judo Men's Extra-Lightweight   NaN  \n",
       "2            Football                   Football Men's Football   NaN  \n",
       "3          Tug-Of-War               Tug-Of-War Men's Tug-Of-War  Gold  \n",
       "4       Speed Skating          Speed Skating Women's 500 metres   NaN  \n",
       "...               ...                                       ...   ...  \n",
       "271111           Luge                Luge Mixed (Men)'s Doubles   NaN  \n",
       "271112    Ski Jumping  Ski Jumping Men's Large Hill, Individual   NaN  \n",
       "271113    Ski Jumping        Ski Jumping Men's Large Hill, Team   NaN  \n",
       "271114      Bobsleigh                      Bobsleigh Men's Four   NaN  \n",
       "271115      Bobsleigh                      Bobsleigh Men's Four   NaN  \n",
       "\n",
       "[271116 rows x 15 columns]"
      ]
     },
     "execution_count": 3,
     "metadata": {},
     "output_type": "execute_result"
    }
   ],
   "source": [
    "oly_data"
   ]
  },
  {
   "cell_type": "code",
   "execution_count": 4,
   "id": "70872536",
   "metadata": {},
   "outputs": [],
   "source": [
    "#Look around  the info summary, head of the DataFrame"
   ]
  },
  {
   "cell_type": "code",
   "execution_count": 5,
   "id": "5aa34531",
   "metadata": {},
   "outputs": [
    {
     "name": "stdout",
     "output_type": "stream",
     "text": [
      "<class 'pandas.core.frame.DataFrame'>\n",
      "RangeIndex: 271116 entries, 0 to 271115\n",
      "Data columns (total 15 columns):\n",
      " #   Column  Non-Null Count   Dtype  \n",
      "---  ------  --------------   -----  \n",
      " 0   ID      271116 non-null  int64  \n",
      " 1   Name    271116 non-null  object \n",
      " 2   Sex     271116 non-null  object \n",
      " 3   Age     261642 non-null  float64\n",
      " 4   Height  210945 non-null  float64\n",
      " 5   Weight  208241 non-null  float64\n",
      " 6   Team    271116 non-null  object \n",
      " 7   NOC     271116 non-null  object \n",
      " 8   Games   271116 non-null  object \n",
      " 9   Year    271116 non-null  int64  \n",
      " 10  Season  271116 non-null  object \n",
      " 11  City    271116 non-null  object \n",
      " 12  Sport   271116 non-null  object \n",
      " 13  Event   271116 non-null  object \n",
      " 14  Medal   39783 non-null   object \n",
      "dtypes: float64(3), int64(2), object(10)\n",
      "memory usage: 31.0+ MB\n"
     ]
    }
   ],
   "source": [
    "oly_data.info()"
   ]
  },
  {
   "cell_type": "code",
   "execution_count": 6,
   "id": "9be005b7",
   "metadata": {},
   "outputs": [],
   "source": [
    "# Find the missing datas column and the data type.\n",
    "# Impute the missing data "
   ]
  },
  {
   "cell_type": "code",
   "execution_count": 7,
   "id": "79f320a9",
   "metadata": {},
   "outputs": [
    {
     "data": {
      "text/plain": [
       "ID             0\n",
       "Name           0\n",
       "Sex            0\n",
       "Age         9474\n",
       "Height     60171\n",
       "Weight     62875\n",
       "Team           0\n",
       "NOC            0\n",
       "Games          0\n",
       "Year           0\n",
       "Season         0\n",
       "City           0\n",
       "Sport          0\n",
       "Event          0\n",
       "Medal     231333\n",
       "dtype: int64"
      ]
     },
     "execution_count": 7,
     "metadata": {},
     "output_type": "execute_result"
    }
   ],
   "source": [
    "oly_data.isna().sum()"
   ]
  },
  {
   "cell_type": "code",
   "execution_count": 8,
   "id": "1281e79d",
   "metadata": {},
   "outputs": [],
   "source": [
    "# Import librayes for IterativeImputer "
   ]
  },
  {
   "cell_type": "code",
   "execution_count": 9,
   "id": "b792072a",
   "metadata": {},
   "outputs": [],
   "source": [
    "from sklearn.experimental import enable_iterative_imputer\n",
    "from sklearn.impute import IterativeImputer"
   ]
  },
  {
   "cell_type": "code",
   "execution_count": 10,
   "id": "19e5d374",
   "metadata": {},
   "outputs": [],
   "source": [
    "#here we have 4 columns and they have missing values. Age , Hight , Weight are numerical columns and Medal is categorical column\n",
    "#first i work with numerical columns then categorical columns.\n",
    "#Here we select year cause it might be helpful modeling the other three columns."
   ]
  },
  {
   "cell_type": "code",
   "execution_count": 11,
   "id": "b02639a0",
   "metadata": {},
   "outputs": [],
   "source": [
    "missing_numerical_col=['Year','Age','Height','Weight']"
   ]
  },
  {
   "cell_type": "code",
   "execution_count": 12,
   "id": "390bd4b3",
   "metadata": {},
   "outputs": [
    {
     "data": {
      "text/plain": [
       "['Year', 'Age', 'Height', 'Weight']"
      ]
     },
     "execution_count": 12,
     "metadata": {},
     "output_type": "execute_result"
    }
   ],
   "source": [
    "missing_numerical_col"
   ]
  },
  {
   "cell_type": "code",
   "execution_count": 13,
   "id": "9cf575ac",
   "metadata": {},
   "outputs": [],
   "source": [
    "min_missing_numerical_col = oly_data[missing_numerical_col].min()"
   ]
  },
  {
   "cell_type": "code",
   "execution_count": 14,
   "id": "71a848eb",
   "metadata": {},
   "outputs": [
    {
     "data": {
      "text/plain": [
       "Year      1896.0\n",
       "Age         10.0\n",
       "Height     127.0\n",
       "Weight      25.0\n",
       "dtype: float64"
      ]
     },
     "execution_count": 14,
     "metadata": {},
     "output_type": "execute_result"
    }
   ],
   "source": [
    "min_missing_numerical_col"
   ]
  },
  {
   "cell_type": "code",
   "execution_count": 15,
   "id": "2672ee6e",
   "metadata": {},
   "outputs": [],
   "source": [
    "max_missing_numerical_col= oly_data[missing_numerical_col].max()"
   ]
  },
  {
   "cell_type": "code",
   "execution_count": 16,
   "id": "6e59ff2e",
   "metadata": {
    "scrolled": true
   },
   "outputs": [
    {
     "data": {
      "text/plain": [
       "Year      2016.0\n",
       "Age         97.0\n",
       "Height     226.0\n",
       "Weight     214.0\n",
       "dtype: float64"
      ]
     },
     "execution_count": 16,
     "metadata": {},
     "output_type": "execute_result"
    }
   ],
   "source": [
    "max_missing_numerical_col"
   ]
  },
  {
   "cell_type": "code",
   "execution_count": 17,
   "id": "a20cc2f6",
   "metadata": {},
   "outputs": [],
   "source": [
    "# itarative_input_value=IterativeImputer (min_value= -----, max_value------)"
   ]
  },
  {
   "cell_type": "code",
   "execution_count": 18,
   "id": "add16faa",
   "metadata": {},
   "outputs": [],
   "source": [
    "itarative_input_value=IterativeImputer (min_value=min_missing_numerical_col,max_value=max_missing_numerical_col)"
   ]
  },
  {
   "cell_type": "code",
   "execution_count": 19,
   "id": "6128651d",
   "metadata": {},
   "outputs": [
    {
     "data": {
      "text/html": [
       "<style>#sk-container-id-1 {color: black;background-color: white;}#sk-container-id-1 pre{padding: 0;}#sk-container-id-1 div.sk-toggleable {background-color: white;}#sk-container-id-1 label.sk-toggleable__label {cursor: pointer;display: block;width: 100%;margin-bottom: 0;padding: 0.3em;box-sizing: border-box;text-align: center;}#sk-container-id-1 label.sk-toggleable__label-arrow:before {content: \"▸\";float: left;margin-right: 0.25em;color: #696969;}#sk-container-id-1 label.sk-toggleable__label-arrow:hover:before {color: black;}#sk-container-id-1 div.sk-estimator:hover label.sk-toggleable__label-arrow:before {color: black;}#sk-container-id-1 div.sk-toggleable__content {max-height: 0;max-width: 0;overflow: hidden;text-align: left;background-color: #f0f8ff;}#sk-container-id-1 div.sk-toggleable__content pre {margin: 0.2em;color: black;border-radius: 0.25em;background-color: #f0f8ff;}#sk-container-id-1 input.sk-toggleable__control:checked~div.sk-toggleable__content {max-height: 200px;max-width: 100%;overflow: auto;}#sk-container-id-1 input.sk-toggleable__control:checked~label.sk-toggleable__label-arrow:before {content: \"▾\";}#sk-container-id-1 div.sk-estimator input.sk-toggleable__control:checked~label.sk-toggleable__label {background-color: #d4ebff;}#sk-container-id-1 div.sk-label input.sk-toggleable__control:checked~label.sk-toggleable__label {background-color: #d4ebff;}#sk-container-id-1 input.sk-hidden--visually {border: 0;clip: rect(1px 1px 1px 1px);clip: rect(1px, 1px, 1px, 1px);height: 1px;margin: -1px;overflow: hidden;padding: 0;position: absolute;width: 1px;}#sk-container-id-1 div.sk-estimator {font-family: monospace;background-color: #f0f8ff;border: 1px dotted black;border-radius: 0.25em;box-sizing: border-box;margin-bottom: 0.5em;}#sk-container-id-1 div.sk-estimator:hover {background-color: #d4ebff;}#sk-container-id-1 div.sk-parallel-item::after {content: \"\";width: 100%;border-bottom: 1px solid gray;flex-grow: 1;}#sk-container-id-1 div.sk-label:hover label.sk-toggleable__label {background-color: #d4ebff;}#sk-container-id-1 div.sk-serial::before {content: \"\";position: absolute;border-left: 1px solid gray;box-sizing: border-box;top: 0;bottom: 0;left: 50%;z-index: 0;}#sk-container-id-1 div.sk-serial {display: flex;flex-direction: column;align-items: center;background-color: white;padding-right: 0.2em;padding-left: 0.2em;position: relative;}#sk-container-id-1 div.sk-item {position: relative;z-index: 1;}#sk-container-id-1 div.sk-parallel {display: flex;align-items: stretch;justify-content: center;background-color: white;position: relative;}#sk-container-id-1 div.sk-item::before, #sk-container-id-1 div.sk-parallel-item::before {content: \"\";position: absolute;border-left: 1px solid gray;box-sizing: border-box;top: 0;bottom: 0;left: 50%;z-index: -1;}#sk-container-id-1 div.sk-parallel-item {display: flex;flex-direction: column;z-index: 1;position: relative;background-color: white;}#sk-container-id-1 div.sk-parallel-item:first-child::after {align-self: flex-end;width: 50%;}#sk-container-id-1 div.sk-parallel-item:last-child::after {align-self: flex-start;width: 50%;}#sk-container-id-1 div.sk-parallel-item:only-child::after {width: 0;}#sk-container-id-1 div.sk-dashed-wrapped {border: 1px dashed gray;margin: 0 0.4em 0.5em 0.4em;box-sizing: border-box;padding-bottom: 0.4em;background-color: white;}#sk-container-id-1 div.sk-label label {font-family: monospace;font-weight: bold;display: inline-block;line-height: 1.2em;}#sk-container-id-1 div.sk-label-container {text-align: center;}#sk-container-id-1 div.sk-container {/* jupyter's `normalize.less` sets `[hidden] { display: none; }` but bootstrap.min.css set `[hidden] { display: none !important; }` so we also need the `!important` here to be able to override the default hidden behavior on the sphinx rendered scikit-learn.org. See: https://github.com/scikit-learn/scikit-learn/issues/21755 */display: inline-block !important;position: relative;}#sk-container-id-1 div.sk-text-repr-fallback {display: none;}</style><div id=\"sk-container-id-1\" class=\"sk-top-container\"><div class=\"sk-text-repr-fallback\"><pre>IterativeImputer(max_value=Year      2016.0\n",
       "Age         97.0\n",
       "Height     226.0\n",
       "Weight     214.0\n",
       "dtype: float64,\n",
       "                 min_value=Year      1896.0\n",
       "Age         10.0\n",
       "Height     127.0\n",
       "Weight      25.0\n",
       "dtype: float64)</pre><b>In a Jupyter environment, please rerun this cell to show the HTML representation or trust the notebook. <br />On GitHub, the HTML representation is unable to render, please try loading this page with nbviewer.org.</b></div><div class=\"sk-container\" hidden><div class=\"sk-item\"><div class=\"sk-estimator sk-toggleable\"><input class=\"sk-toggleable__control sk-hidden--visually\" id=\"sk-estimator-id-1\" type=\"checkbox\" checked><label for=\"sk-estimator-id-1\" class=\"sk-toggleable__label sk-toggleable__label-arrow\">IterativeImputer</label><div class=\"sk-toggleable__content\"><pre>IterativeImputer(max_value=Year      2016.0\n",
       "Age         97.0\n",
       "Height     226.0\n",
       "Weight     214.0\n",
       "dtype: float64,\n",
       "                 min_value=Year      1896.0\n",
       "Age         10.0\n",
       "Height     127.0\n",
       "Weight      25.0\n",
       "dtype: float64)</pre></div></div></div></div></div>"
      ],
      "text/plain": [
       "IterativeImputer(max_value=Year      2016.0\n",
       "Age         97.0\n",
       "Height     226.0\n",
       "Weight     214.0\n",
       "dtype: float64,\n",
       "                 min_value=Year      1896.0\n",
       "Age         10.0\n",
       "Height     127.0\n",
       "Weight      25.0\n",
       "dtype: float64)"
      ]
     },
     "execution_count": 19,
     "metadata": {},
     "output_type": "execute_result"
    }
   ],
   "source": [
    "itarative_input_value"
   ]
  },
  {
   "cell_type": "code",
   "execution_count": 20,
   "id": "2ee56fd9",
   "metadata": {},
   "outputs": [],
   "source": [
    "#Apply the imputer to fit and transform the columns to an imputed NumPy array"
   ]
  },
  {
   "cell_type": "code",
   "execution_count": 21,
   "id": "2cbd072b",
   "metadata": {},
   "outputs": [],
   "source": [
    "imported_columns = itarative_input_value.fit_transform(oly_data[missing_numerical_col])"
   ]
  },
  {
   "cell_type": "code",
   "execution_count": 22,
   "id": "6e447f05",
   "metadata": {},
   "outputs": [
    {
     "data": {
      "text/plain": [
       "array([[1992.        ,   24.        ,  180.        ,   80.        ],\n",
       "       [2012.        ,   23.        ,  170.        ,   60.        ],\n",
       "       [1920.        ,   24.        ,  173.81550745,   70.02225315],\n",
       "       ...,\n",
       "       [2014.        ,   27.        ,  176.        ,   59.        ],\n",
       "       [1998.        ,   30.        ,  185.        ,   96.        ],\n",
       "       [2002.        ,   34.        ,  185.        ,   96.        ]])"
      ]
     },
     "execution_count": 22,
     "metadata": {},
     "output_type": "execute_result"
    }
   ],
   "source": [
    "imported_columns"
   ]
  },
  {
   "cell_type": "code",
   "execution_count": 23,
   "id": "d1f31b99",
   "metadata": {},
   "outputs": [],
   "source": [
    "#Assign the imputed array back to the original DataFrame's columns"
   ]
  },
  {
   "cell_type": "code",
   "execution_count": 24,
   "id": "534258c2",
   "metadata": {},
   "outputs": [
    {
     "data": {
      "text/html": [
       "<div>\n",
       "<style scoped>\n",
       "    .dataframe tbody tr th:only-of-type {\n",
       "        vertical-align: middle;\n",
       "    }\n",
       "\n",
       "    .dataframe tbody tr th {\n",
       "        vertical-align: top;\n",
       "    }\n",
       "\n",
       "    .dataframe thead th {\n",
       "        text-align: right;\n",
       "    }\n",
       "</style>\n",
       "<table border=\"1\" class=\"dataframe\">\n",
       "  <thead>\n",
       "    <tr style=\"text-align: right;\">\n",
       "      <th></th>\n",
       "      <th>Year</th>\n",
       "      <th>Age</th>\n",
       "      <th>Height</th>\n",
       "      <th>Weight</th>\n",
       "    </tr>\n",
       "  </thead>\n",
       "  <tbody>\n",
       "    <tr>\n",
       "      <th>0</th>\n",
       "      <td>1992</td>\n",
       "      <td>24.0</td>\n",
       "      <td>180.0</td>\n",
       "      <td>80.0</td>\n",
       "    </tr>\n",
       "    <tr>\n",
       "      <th>1</th>\n",
       "      <td>2012</td>\n",
       "      <td>23.0</td>\n",
       "      <td>170.0</td>\n",
       "      <td>60.0</td>\n",
       "    </tr>\n",
       "    <tr>\n",
       "      <th>2</th>\n",
       "      <td>1920</td>\n",
       "      <td>24.0</td>\n",
       "      <td>NaN</td>\n",
       "      <td>NaN</td>\n",
       "    </tr>\n",
       "    <tr>\n",
       "      <th>3</th>\n",
       "      <td>1900</td>\n",
       "      <td>34.0</td>\n",
       "      <td>NaN</td>\n",
       "      <td>NaN</td>\n",
       "    </tr>\n",
       "    <tr>\n",
       "      <th>4</th>\n",
       "      <td>1988</td>\n",
       "      <td>21.0</td>\n",
       "      <td>185.0</td>\n",
       "      <td>82.0</td>\n",
       "    </tr>\n",
       "  </tbody>\n",
       "</table>\n",
       "</div>"
      ],
      "text/plain": [
       "   Year   Age  Height  Weight\n",
       "0  1992  24.0   180.0    80.0\n",
       "1  2012  23.0   170.0    60.0\n",
       "2  1920  24.0     NaN     NaN\n",
       "3  1900  34.0     NaN     NaN\n",
       "4  1988  21.0   185.0    82.0"
      ]
     },
     "execution_count": 24,
     "metadata": {},
     "output_type": "execute_result"
    }
   ],
   "source": [
    "oly_data[missing_numerical_col].head(5)"
   ]
  },
  {
   "cell_type": "code",
   "execution_count": 25,
   "id": "bd43b8ab",
   "metadata": {},
   "outputs": [],
   "source": [
    "oly_data[missing_numerical_col]=imported_columns"
   ]
  },
  {
   "cell_type": "code",
   "execution_count": 26,
   "id": "80660440",
   "metadata": {},
   "outputs": [
    {
     "data": {
      "text/html": [
       "<div>\n",
       "<style scoped>\n",
       "    .dataframe tbody tr th:only-of-type {\n",
       "        vertical-align: middle;\n",
       "    }\n",
       "\n",
       "    .dataframe tbody tr th {\n",
       "        vertical-align: top;\n",
       "    }\n",
       "\n",
       "    .dataframe thead th {\n",
       "        text-align: right;\n",
       "    }\n",
       "</style>\n",
       "<table border=\"1\" class=\"dataframe\">\n",
       "  <thead>\n",
       "    <tr style=\"text-align: right;\">\n",
       "      <th></th>\n",
       "      <th>Year</th>\n",
       "      <th>Age</th>\n",
       "      <th>Height</th>\n",
       "      <th>Weight</th>\n",
       "    </tr>\n",
       "  </thead>\n",
       "  <tbody>\n",
       "    <tr>\n",
       "      <th>0</th>\n",
       "      <td>1992.0</td>\n",
       "      <td>24.0</td>\n",
       "      <td>180.000000</td>\n",
       "      <td>80.000000</td>\n",
       "    </tr>\n",
       "    <tr>\n",
       "      <th>1</th>\n",
       "      <td>2012.0</td>\n",
       "      <td>23.0</td>\n",
       "      <td>170.000000</td>\n",
       "      <td>60.000000</td>\n",
       "    </tr>\n",
       "    <tr>\n",
       "      <th>2</th>\n",
       "      <td>1920.0</td>\n",
       "      <td>24.0</td>\n",
       "      <td>173.815507</td>\n",
       "      <td>70.022253</td>\n",
       "    </tr>\n",
       "    <tr>\n",
       "      <th>3</th>\n",
       "      <td>1900.0</td>\n",
       "      <td>34.0</td>\n",
       "      <td>175.833593</td>\n",
       "      <td>75.252830</td>\n",
       "    </tr>\n",
       "    <tr>\n",
       "      <th>4</th>\n",
       "      <td>1988.0</td>\n",
       "      <td>21.0</td>\n",
       "      <td>185.000000</td>\n",
       "      <td>82.000000</td>\n",
       "    </tr>\n",
       "  </tbody>\n",
       "</table>\n",
       "</div>"
      ],
      "text/plain": [
       "     Year   Age      Height     Weight\n",
       "0  1992.0  24.0  180.000000  80.000000\n",
       "1  2012.0  23.0  170.000000  60.000000\n",
       "2  1920.0  24.0  173.815507  70.022253\n",
       "3  1900.0  34.0  175.833593  75.252830\n",
       "4  1988.0  21.0  185.000000  82.000000"
      ]
     },
     "execution_count": 26,
     "metadata": {},
     "output_type": "execute_result"
    }
   ],
   "source": [
    "oly_data[missing_numerical_col].head(5)"
   ]
  },
  {
   "cell_type": "code",
   "execution_count": 27,
   "id": "9cd835ba",
   "metadata": {},
   "outputs": [],
   "source": [
    "#fill the missing values in the column Medal with string of \"NA\""
   ]
  },
  {
   "cell_type": "code",
   "execution_count": 28,
   "id": "a1be69df",
   "metadata": {},
   "outputs": [],
   "source": [
    "oly_data['Medal']=oly_data['Medal'].fillna('NA')"
   ]
  },
  {
   "cell_type": "code",
   "execution_count": 29,
   "id": "a091bd3e",
   "metadata": {},
   "outputs": [
    {
     "data": {
      "text/plain": [
       "0           NA\n",
       "1           NA\n",
       "2           NA\n",
       "3         Gold\n",
       "4           NA\n",
       "          ... \n",
       "271111      NA\n",
       "271112      NA\n",
       "271113      NA\n",
       "271114      NA\n",
       "271115      NA\n",
       "Name: Medal, Length: 271116, dtype: object"
      ]
     },
     "execution_count": 29,
     "metadata": {},
     "output_type": "execute_result"
    }
   ],
   "source": [
    "oly_data['Medal']"
   ]
  },
  {
   "cell_type": "code",
   "execution_count": 30,
   "id": "ac32d612",
   "metadata": {},
   "outputs": [],
   "source": [
    "#Double check missing values "
   ]
  },
  {
   "cell_type": "code",
   "execution_count": 31,
   "id": "8fba9c80",
   "metadata": {},
   "outputs": [
    {
     "data": {
      "text/plain": [
       "ID        0\n",
       "Name      0\n",
       "Sex       0\n",
       "Age       0\n",
       "Height    0\n",
       "Weight    0\n",
       "Team      0\n",
       "NOC       0\n",
       "Games     0\n",
       "Year      0\n",
       "Season    0\n",
       "City      0\n",
       "Sport     0\n",
       "Event     0\n",
       "Medal     0\n",
       "dtype: int64"
      ]
     },
     "execution_count": 31,
     "metadata": {},
     "output_type": "execute_result"
    }
   ],
   "source": [
    "oly_data.isna().sum()"
   ]
  },
  {
   "cell_type": "code",
   "execution_count": 32,
   "id": "e85d4d87",
   "metadata": {},
   "outputs": [],
   "source": [
    "#check outliers  // Use the describe method to check the numerical columns"
   ]
  },
  {
   "cell_type": "code",
   "execution_count": 33,
   "id": "e6a7828b",
   "metadata": {},
   "outputs": [
    {
     "data": {
      "text/html": [
       "<div>\n",
       "<style scoped>\n",
       "    .dataframe tbody tr th:only-of-type {\n",
       "        vertical-align: middle;\n",
       "    }\n",
       "\n",
       "    .dataframe tbody tr th {\n",
       "        vertical-align: top;\n",
       "    }\n",
       "\n",
       "    .dataframe thead th {\n",
       "        text-align: right;\n",
       "    }\n",
       "</style>\n",
       "<table border=\"1\" class=\"dataframe\">\n",
       "  <thead>\n",
       "    <tr style=\"text-align: right;\">\n",
       "      <th></th>\n",
       "      <th>ID</th>\n",
       "      <th>Age</th>\n",
       "      <th>Height</th>\n",
       "      <th>Weight</th>\n",
       "      <th>Year</th>\n",
       "    </tr>\n",
       "  </thead>\n",
       "  <tbody>\n",
       "    <tr>\n",
       "      <th>count</th>\n",
       "      <td>271116.000000</td>\n",
       "      <td>271116.000000</td>\n",
       "      <td>271116.000000</td>\n",
       "      <td>271116.000000</td>\n",
       "      <td>271116.000000</td>\n",
       "    </tr>\n",
       "    <tr>\n",
       "      <th>mean</th>\n",
       "      <td>68248.954396</td>\n",
       "      <td>25.600403</td>\n",
       "      <td>175.280009</td>\n",
       "      <td>70.952869</td>\n",
       "      <td>1978.378480</td>\n",
       "    </tr>\n",
       "    <tr>\n",
       "      <th>std</th>\n",
       "      <td>39022.286345</td>\n",
       "      <td>6.286884</td>\n",
       "      <td>9.348504</td>\n",
       "      <td>12.804718</td>\n",
       "      <td>29.877632</td>\n",
       "    </tr>\n",
       "    <tr>\n",
       "      <th>min</th>\n",
       "      <td>1.000000</td>\n",
       "      <td>10.000000</td>\n",
       "      <td>127.000000</td>\n",
       "      <td>25.000000</td>\n",
       "      <td>1896.000000</td>\n",
       "    </tr>\n",
       "    <tr>\n",
       "      <th>25%</th>\n",
       "      <td>34643.000000</td>\n",
       "      <td>22.000000</td>\n",
       "      <td>170.000000</td>\n",
       "      <td>63.000000</td>\n",
       "      <td>1960.000000</td>\n",
       "    </tr>\n",
       "    <tr>\n",
       "      <th>50%</th>\n",
       "      <td>68205.000000</td>\n",
       "      <td>25.000000</td>\n",
       "      <td>174.985438</td>\n",
       "      <td>70.064758</td>\n",
       "      <td>1988.000000</td>\n",
       "    </tr>\n",
       "    <tr>\n",
       "      <th>75%</th>\n",
       "      <td>102097.250000</td>\n",
       "      <td>28.000000</td>\n",
       "      <td>180.000000</td>\n",
       "      <td>77.000000</td>\n",
       "      <td>2002.000000</td>\n",
       "    </tr>\n",
       "    <tr>\n",
       "      <th>max</th>\n",
       "      <td>135571.000000</td>\n",
       "      <td>97.000000</td>\n",
       "      <td>226.000000</td>\n",
       "      <td>214.000000</td>\n",
       "      <td>2016.000000</td>\n",
       "    </tr>\n",
       "  </tbody>\n",
       "</table>\n",
       "</div>"
      ],
      "text/plain": [
       "                  ID            Age         Height         Weight  \\\n",
       "count  271116.000000  271116.000000  271116.000000  271116.000000   \n",
       "mean    68248.954396      25.600403     175.280009      70.952869   \n",
       "std     39022.286345       6.286884       9.348504      12.804718   \n",
       "min         1.000000      10.000000     127.000000      25.000000   \n",
       "25%     34643.000000      22.000000     170.000000      63.000000   \n",
       "50%     68205.000000      25.000000     174.985438      70.064758   \n",
       "75%    102097.250000      28.000000     180.000000      77.000000   \n",
       "max    135571.000000      97.000000     226.000000     214.000000   \n",
       "\n",
       "                Year  \n",
       "count  271116.000000  \n",
       "mean     1978.378480  \n",
       "std        29.877632  \n",
       "min      1896.000000  \n",
       "25%      1960.000000  \n",
       "50%      1988.000000  \n",
       "75%      2002.000000  \n",
       "max      2016.000000  "
      ]
     },
     "execution_count": 33,
     "metadata": {},
     "output_type": "execute_result"
    }
   ],
   "source": [
    "oly_data.describe()"
   ]
  },
  {
   "cell_type": "code",
   "execution_count": 34,
   "id": "ecd70393",
   "metadata": {},
   "outputs": [
    {
     "data": {
      "text/html": [
       "<div>\n",
       "<style scoped>\n",
       "    .dataframe tbody tr th:only-of-type {\n",
       "        vertical-align: middle;\n",
       "    }\n",
       "\n",
       "    .dataframe tbody tr th {\n",
       "        vertical-align: top;\n",
       "    }\n",
       "\n",
       "    .dataframe thead th {\n",
       "        text-align: right;\n",
       "    }\n",
       "</style>\n",
       "<table border=\"1\" class=\"dataframe\">\n",
       "  <thead>\n",
       "    <tr style=\"text-align: right;\">\n",
       "      <th></th>\n",
       "      <th>count</th>\n",
       "      <th>mean</th>\n",
       "      <th>std</th>\n",
       "      <th>min</th>\n",
       "      <th>25%</th>\n",
       "      <th>50%</th>\n",
       "      <th>75%</th>\n",
       "      <th>max</th>\n",
       "    </tr>\n",
       "  </thead>\n",
       "  <tbody>\n",
       "    <tr>\n",
       "      <th>ID</th>\n",
       "      <td>271116.0</td>\n",
       "      <td>68248.954396</td>\n",
       "      <td>39022.286345</td>\n",
       "      <td>1.0</td>\n",
       "      <td>34643.0</td>\n",
       "      <td>68205.000000</td>\n",
       "      <td>102097.25</td>\n",
       "      <td>135571.0</td>\n",
       "    </tr>\n",
       "    <tr>\n",
       "      <th>Age</th>\n",
       "      <td>271116.0</td>\n",
       "      <td>25.600403</td>\n",
       "      <td>6.286884</td>\n",
       "      <td>10.0</td>\n",
       "      <td>22.0</td>\n",
       "      <td>25.000000</td>\n",
       "      <td>28.00</td>\n",
       "      <td>97.0</td>\n",
       "    </tr>\n",
       "    <tr>\n",
       "      <th>Height</th>\n",
       "      <td>271116.0</td>\n",
       "      <td>175.280009</td>\n",
       "      <td>9.348504</td>\n",
       "      <td>127.0</td>\n",
       "      <td>170.0</td>\n",
       "      <td>174.985438</td>\n",
       "      <td>180.00</td>\n",
       "      <td>226.0</td>\n",
       "    </tr>\n",
       "    <tr>\n",
       "      <th>Weight</th>\n",
       "      <td>271116.0</td>\n",
       "      <td>70.952869</td>\n",
       "      <td>12.804718</td>\n",
       "      <td>25.0</td>\n",
       "      <td>63.0</td>\n",
       "      <td>70.064758</td>\n",
       "      <td>77.00</td>\n",
       "      <td>214.0</td>\n",
       "    </tr>\n",
       "    <tr>\n",
       "      <th>Year</th>\n",
       "      <td>271116.0</td>\n",
       "      <td>1978.378480</td>\n",
       "      <td>29.877632</td>\n",
       "      <td>1896.0</td>\n",
       "      <td>1960.0</td>\n",
       "      <td>1988.000000</td>\n",
       "      <td>2002.00</td>\n",
       "      <td>2016.0</td>\n",
       "    </tr>\n",
       "  </tbody>\n",
       "</table>\n",
       "</div>"
      ],
      "text/plain": [
       "           count          mean           std     min      25%           50%  \\\n",
       "ID      271116.0  68248.954396  39022.286345     1.0  34643.0  68205.000000   \n",
       "Age     271116.0     25.600403      6.286884    10.0     22.0     25.000000   \n",
       "Height  271116.0    175.280009      9.348504   127.0    170.0    174.985438   \n",
       "Weight  271116.0     70.952869     12.804718    25.0     63.0     70.064758   \n",
       "Year    271116.0   1978.378480     29.877632  1896.0   1960.0   1988.000000   \n",
       "\n",
       "              75%       max  \n",
       "ID      102097.25  135571.0  \n",
       "Age         28.00      97.0  \n",
       "Height     180.00     226.0  \n",
       "Weight      77.00     214.0  \n",
       "Year      2002.00    2016.0  "
      ]
     },
     "execution_count": 34,
     "metadata": {},
     "output_type": "execute_result"
    }
   ],
   "source": [
    "oly_data.describe().T"
   ]
  },
  {
   "cell_type": "code",
   "execution_count": 35,
   "id": "658a672c",
   "metadata": {},
   "outputs": [
    {
     "data": {
      "text/plain": [
       "array([[<AxesSubplot:title={'center':'ID'}>,\n",
       "        <AxesSubplot:title={'center':'Age'}>],\n",
       "       [<AxesSubplot:title={'center':'Height'}>,\n",
       "        <AxesSubplot:title={'center':'Weight'}>],\n",
       "       [<AxesSubplot:title={'center':'Year'}>, <AxesSubplot:>]],\n",
       "      dtype=object)"
      ]
     },
     "execution_count": 35,
     "metadata": {},
     "output_type": "execute_result"
    },
    {
     "data": {
      "image/png": "[encoded data removed]",
      "text/plain": [
       "<Figure size 432x288 with 6 Axes>"
      ]
     },
     "metadata": {
      "needs_background": "light"
     },
     "output_type": "display_data"
    }
   ],
   "source": [
    "oly_data.hist()"
   ]
  },
  {
   "cell_type": "code",
   "execution_count": 36,
   "id": "bf4c96e6",
   "metadata": {},
   "outputs": [],
   "source": [
    "#Plot the histograms of the numerical columns using Pandas"
   ]
  },
  {
   "cell_type": "code",
   "execution_count": 37,
   "id": "f7d73ba1",
   "metadata": {},
   "outputs": [
    {
     "data": {
      "text/plain": [
       "array([[<AxesSubplot:title={'center':'ID'}>,\n",
       "        <AxesSubplot:title={'center':'Age'}>],\n",
       "       [<AxesSubplot:title={'center':'Height'}>,\n",
       "        <AxesSubplot:title={'center':'Weight'}>],\n",
       "       [<AxesSubplot:title={'center':'Year'}>, <AxesSubplot:>]],\n",
       "      dtype=object)"
      ]
     },
     "execution_count": 37,
     "metadata": {},
     "output_type": "execute_result"
    },
    {
     "data": {
      "image/png": "[encoded data removed]",
      "text/plain": [
       "<Figure size 1080x720 with 6 Axes>"
      ]
     },
     "metadata": {
      "needs_background": "light"
     },
     "output_type": "display_data"
    }
   ],
   "source": [
    "oly_data.hist(figsize=(15,10))\n"
   ]
  },
  {
   "cell_type": "code",
   "execution_count": 38,
   "id": "1b60e58f",
   "metadata": {},
   "outputs": [],
   "source": [
    "#Notice that there could be outliers for Age, Weight, Height. But focus on Age"
   ]
  },
  {
   "cell_type": "code",
   "execution_count": 39,
   "id": "1e59ba79",
   "metadata": {},
   "outputs": [],
   "source": [
    "#Plot the histogram with a rug plot of the column Age using Seaborn, with both 20 and 50 bins"
   ]
  },
  {
   "cell_type": "code",
   "execution_count": 40,
   "id": "569003d4",
   "metadata": {},
   "outputs": [
    {
     "data": {
      "text/plain": [
       "<seaborn.axisgrid.FacetGrid at 0x1b1700f8070>"
      ]
     },
     "execution_count": 40,
     "metadata": {},
     "output_type": "execute_result"
    },
    {
     "data": {
      "image/png": "[encoded data removed]",
      "text/plain": [
       "<Figure size 360x360 with 1 Axes>"
      ]
     },
     "metadata": {
      "needs_background": "light"
     },
     "output_type": "display_data"
    }
   ],
   "source": [
    "sns.displot(data=oly_data,x='Age', bins=20,rug=True)"
   ]
  },
  {
   "cell_type": "code",
   "execution_count": 41,
   "id": "545354d3",
   "metadata": {},
   "outputs": [
    {
     "data": {
      "text/plain": [
       "<seaborn.axisgrid.FacetGrid at 0x1b172426fb0>"
      ]
     },
     "execution_count": 41,
     "metadata": {},
     "output_type": "execute_result"
    },
    {
     "data": {
      "image/png": "[encoded data removed]",
      "text/plain": [
       "<Figure size 360x360 with 1 Axes>"
      ]
     },
     "metadata": {
      "needs_background": "light"
     },
     "output_type": "display_data"
    }
   ],
   "source": [
    "sns.displot(data=oly_data,x='Age', bins=50,rug=True)"
   ]
  },
  {
   "cell_type": "code",
   "execution_count": 42,
   "id": "71ca91a3",
   "metadata": {},
   "outputs": [],
   "source": [
    "#Notice the slight changes of distributions of Age when the number of bins changes."
   ]
  },
  {
   "cell_type": "code",
   "execution_count": 43,
   "id": "323a31eb",
   "metadata": {},
   "outputs": [],
   "source": [
    "#Plot the boxplot of the column Age using Pandas"
   ]
  },
  {
   "cell_type": "code",
   "execution_count": 44,
   "id": "ec130823",
   "metadata": {},
   "outputs": [
    {
     "data": {
      "text/plain": [
       "<AxesSubplot:>"
      ]
     },
     "execution_count": 44,
     "metadata": {},
     "output_type": "execute_result"
    },
    {
     "data": {
      "image/png": "[encoded data removed]",
      "text/plain": [
       "<Figure size 432x288 with 1 Axes>"
      ]
     },
     "metadata": {
      "needs_background": "light"
     },
     "output_type": "display_data"
    }
   ],
   "source": [
    "oly_data['Age'].plot(kind='box')"
   ]
  },
  {
   "cell_type": "code",
   "execution_count": 45,
   "id": "aab2916b",
   "metadata": {},
   "outputs": [],
   "source": [
    "#Plot the boxplot of the column Age using Seaborn"
   ]
  },
  {
   "cell_type": "code",
   "execution_count": 46,
   "id": "ab00e478",
   "metadata": {},
   "outputs": [
    {
     "data": {
      "text/plain": [
       "<seaborn.axisgrid.FacetGrid at 0x1b106c37e20>"
      ]
     },
     "execution_count": 46,
     "metadata": {},
     "output_type": "execute_result"
    },
    {
     "data": {
      "image/png": "[encoded data removed]",
      "text/plain": [
       "<Figure size 360x360 with 1 Axes>"
      ]
     },
     "metadata": {
      "needs_background": "light"
     },
     "output_type": "display_data"
    }
   ],
   "source": [
    "sns.catplot(data=oly_data,y='Age', kind='box')"
   ]
  },
  {
   "cell_type": "code",
   "execution_count": 47,
   "id": "ac33410e",
   "metadata": {},
   "outputs": [],
   "source": [
    "#Calculate the first quartile, third quartile, and IQR of the column Age"
   ]
  },
  {
   "cell_type": "code",
   "execution_count": 48,
   "id": "437ac44b",
   "metadata": {},
   "outputs": [],
   "source": [
    "Q1= oly_data['Age'].quantile(0.25)   #25%\n",
    "Q3= oly_data['Age'].quantile(0.75)   #75%\n",
    "IQR= Q3-Q1"
   ]
  },
  {
   "cell_type": "code",
   "execution_count": 49,
   "id": "aa3c0a51",
   "metadata": {
    "scrolled": true
   },
   "outputs": [
    {
     "name": "stdout",
     "output_type": "stream",
     "text": [
      "22.0\n",
      "28.0\n",
      "6.0\n"
     ]
    }
   ],
   "source": [
    "print(Q1)\n",
    "print(Q3)\n",
    "print(IQR)"
   ]
  },
  {
   "cell_type": "code",
   "execution_count": 50,
   "id": "f500eabb",
   "metadata": {},
   "outputs": [],
   "source": [
    "#Print out the lower and upper thresholds for outliers based on IQR for the column Age"
   ]
  },
  {
   "cell_type": "code",
   "execution_count": 51,
   "id": "3f034d4f",
   "metadata": {},
   "outputs": [
    {
     "name": "stdout",
     "output_type": "stream",
     "text": [
      "Low Age outlier threshold: 13.0\n",
      "High Age outlier threshold: 37.0\n"
     ]
    }
   ],
   "source": [
    "print(f\"Low Age outlier threshold: {Q1 - 1.5*IQR}\")\n",
    "print(f\"High Age outlier threshold: {Q3 + 1.5*IQR}\")"
   ]
  },
  {
   "cell_type": "code",
   "execution_count": 52,
   "id": "196d0ce2",
   "metadata": {},
   "outputs": [],
   "source": [
    "#What are the Sports for the athletes of really young age\n",
    "#Filter for the column Sport when the column Age has outliers of lower values"
   ]
  },
  {
   "cell_type": "code",
   "execution_count": 53,
   "id": "346423cf",
   "metadata": {},
   "outputs": [
    {
     "data": {
      "text/plain": [
       "0         False\n",
       "1         False\n",
       "2         False\n",
       "3         False\n",
       "4         False\n",
       "          ...  \n",
       "271111    False\n",
       "271112    False\n",
       "271113    False\n",
       "271114    False\n",
       "271115    False\n",
       "Name: Age, Length: 271116, dtype: bool"
      ]
     },
     "execution_count": 53,
     "metadata": {},
     "output_type": "execute_result"
    }
   ],
   "source": [
    "msk_lower=(oly_data['Age']<(Q1-1.5*IQR))\n",
    "msk_lower"
   ]
  },
  {
   "cell_type": "code",
   "execution_count": 54,
   "id": "86598af4",
   "metadata": {},
   "outputs": [],
   "source": [
    "#Look at the unique values of Sport and their counts when Age are low-valued outliers¶\n",
    "#Did you find any sports popular for really young athletes?"
   ]
  },
  {
   "cell_type": "code",
   "execution_count": 55,
   "id": "e877ef11",
   "metadata": {},
   "outputs": [
    {
     "data": {
      "text/plain": [
       "Swimming          25\n",
       "Figure Skating    15\n",
       "Rowing             5\n",
       "Gymnastics         5\n",
       "Athletics          2\n",
       "Diving             1\n",
       "Name: Sport, dtype: int64"
      ]
     },
     "execution_count": 55,
     "metadata": {},
     "output_type": "execute_result"
    }
   ],
   "source": [
    "oly_data.loc[msk_lower,'Sport'].value_counts()"
   ]
  },
  {
   "cell_type": "markdown",
   "id": "8365e94d",
   "metadata": {},
   "source": [
    "#There are specific sports with really young age athletes, e.g., Swimming, Figure Skating."
   ]
  },
  {
   "cell_type": "code",
   "execution_count": 56,
   "id": "db77b53b",
   "metadata": {},
   "outputs": [],
   "source": [
    "#What are the Sport for the athletes of older age\n",
    "#Filter for the column Sport when the column Age has outliers of higher values"
   ]
  },
  {
   "cell_type": "code",
   "execution_count": 57,
   "id": "3eb0fc9f",
   "metadata": {},
   "outputs": [
    {
     "data": {
      "text/plain": [
       "58        Art Competitions\n",
       "89                 Sailing\n",
       "90                 Sailing\n",
       "124               Shooting\n",
       "126               Shooting\n",
       "                ...       \n",
       "270955    Art Competitions\n",
       "270970           Athletics\n",
       "270971           Athletics\n",
       "270972           Athletics\n",
       "271090             Sailing\n",
       "Name: Sport, Length: 11928, dtype: object"
      ]
     },
     "execution_count": 57,
     "metadata": {},
     "output_type": "execute_result"
    }
   ],
   "source": [
    "msk_upper= (oly_data['Age']>(Q3+1.5*IQR))\n",
    "oly_data.loc[msk_upper,'Sport']"
   ]
  },
  {
   "cell_type": "code",
   "execution_count": 58,
   "id": "051bb3d5",
   "metadata": {},
   "outputs": [],
   "source": [
    "#Look at the unique values of Sport and their counts when Age are high-valued outliers\n",
    "#Did you find any sports popular for older age athletes?"
   ]
  },
  {
   "cell_type": "code",
   "execution_count": 59,
   "id": "11243975",
   "metadata": {},
   "outputs": [
    {
     "data": {
      "text/plain": [
       "Shooting                 3178\n",
       "Art Competitions         2226\n",
       "Equestrianism            1997\n",
       "Sailing                  1040\n",
       "Fencing                  1031\n",
       "Athletics                 408\n",
       "Archery                   311\n",
       "Bobsleigh                 230\n",
       "Gymnastics                167\n",
       "Rowing                    122\n",
       "Cycling                    99\n",
       "Curling                    98\n",
       "Table Tennis               83\n",
       "Cross Country Skiing       81\n",
       "Biathlon                   78\n",
       "Canoeing                   71\n",
       "Tennis                     70\n",
       "Ice Hockey                 51\n",
       "Wrestling                  46\n",
       "Golf                       42\n",
       "Weightlifting              42\n",
       "Speed Skating              36\n",
       "Polo                       33\n",
       "Figure Skating             30\n",
       "Handball                   29\n",
       "Water Polo                 29\n",
       "Hockey                     29\n",
       "Luge                       26\n",
       "Alpine Skiing              25\n",
       "Skeleton                   23\n",
       "Beach Volleyball           16\n",
       "Tug-Of-War                 15\n",
       "Volleyball                 15\n",
       "Judo                       14\n",
       "Modern Pentathlon          13\n",
       "Swimming                   13\n",
       "Baseball                   11\n",
       "Football                    9\n",
       "Freestyle Skiing            8\n",
       "Softball                    8\n",
       "Diving                      8\n",
       "Alpinism                    8\n",
       "Ski Jumping                 8\n",
       "Basketball                  7\n",
       "Croquet                     6\n",
       "Badminton                   6\n",
       "Triathlon                   5\n",
       "Jeu De Paume                4\n",
       "Snowboarding                4\n",
       "Motorboating                4\n",
       "Boxing                      3\n",
       "Roque                       2\n",
       "Racquets                    2\n",
       "Synchronized Swimming       2\n",
       "Trampolining                2\n",
       "Cricket                     2\n",
       "Nordic Combined             1\n",
       "Rugby                       1\n",
       "Name: Sport, dtype: int64"
      ]
     },
     "execution_count": 59,
     "metadata": {},
     "output_type": "execute_result"
    }
   ],
   "source": [
    "oly_data.loc[msk_upper,'Sport'].value_counts()"
   ]
  },
  {
   "cell_type": "markdown",
   "id": "92011e72",
   "metadata": {},
   "source": [
    "There are specific sports popular for higher-aged athletes. They tend to need more skills rather than movements."
   ]
  },
  {
   "cell_type": "code",
   "execution_count": 60,
   "id": "88666d02",
   "metadata": {},
   "outputs": [],
   "source": [
    "#Check for the number of unique values in each column"
   ]
  },
  {
   "cell_type": "code",
   "execution_count": 61,
   "id": "b7d63643",
   "metadata": {},
   "outputs": [
    {
     "data": {
      "text/plain": [
       "ID        135571\n",
       "Name      134732\n",
       "Sex            2\n",
       "Age          785\n",
       "Height      2475\n",
       "Weight      3565\n",
       "Team        1184\n",
       "NOC          230\n",
       "Games         51\n",
       "Year          35\n",
       "Season         2\n",
       "City          42\n",
       "Sport         66\n",
       "Event        765\n",
       "Medal          4\n",
       "dtype: int64"
      ]
     },
     "execution_count": 61,
     "metadata": {},
     "output_type": "execute_result"
    }
   ],
   "source": [
    "oly_data.nunique()"
   ]
  },
  {
   "cell_type": "markdown",
   "id": "e82b9741",
   "metadata": {},
   "source": [
    "Olympics is a large event! There are many Name, Team, NOC, Games, Year, City, Sport, and Event!"
   ]
  },
  {
   "cell_type": "code",
   "execution_count": 62,
   "id": "02bdbbce",
   "metadata": {},
   "outputs": [],
   "source": [
    "#Use the describe method to check the non-numerical columns"
   ]
  },
  {
   "cell_type": "code",
   "execution_count": 63,
   "id": "68a639a2",
   "metadata": {},
   "outputs": [
    {
     "data": {
      "text/html": [
       "<div>\n",
       "<style scoped>\n",
       "    .dataframe tbody tr th:only-of-type {\n",
       "        vertical-align: middle;\n",
       "    }\n",
       "\n",
       "    .dataframe tbody tr th {\n",
       "        vertical-align: top;\n",
       "    }\n",
       "\n",
       "    .dataframe thead th {\n",
       "        text-align: right;\n",
       "    }\n",
       "</style>\n",
       "<table border=\"1\" class=\"dataframe\">\n",
       "  <thead>\n",
       "    <tr style=\"text-align: right;\">\n",
       "      <th></th>\n",
       "      <th>Name</th>\n",
       "      <th>Sex</th>\n",
       "      <th>Team</th>\n",
       "      <th>NOC</th>\n",
       "      <th>Games</th>\n",
       "      <th>Season</th>\n",
       "      <th>City</th>\n",
       "      <th>Sport</th>\n",
       "      <th>Event</th>\n",
       "      <th>Medal</th>\n",
       "    </tr>\n",
       "  </thead>\n",
       "  <tbody>\n",
       "    <tr>\n",
       "      <th>count</th>\n",
       "      <td>271116</td>\n",
       "      <td>271116</td>\n",
       "      <td>271116</td>\n",
       "      <td>271116</td>\n",
       "      <td>271116</td>\n",
       "      <td>271116</td>\n",
       "      <td>271116</td>\n",
       "      <td>271116</td>\n",
       "      <td>271116</td>\n",
       "      <td>271116</td>\n",
       "    </tr>\n",
       "    <tr>\n",
       "      <th>unique</th>\n",
       "      <td>134732</td>\n",
       "      <td>2</td>\n",
       "      <td>1184</td>\n",
       "      <td>230</td>\n",
       "      <td>51</td>\n",
       "      <td>2</td>\n",
       "      <td>42</td>\n",
       "      <td>66</td>\n",
       "      <td>765</td>\n",
       "      <td>4</td>\n",
       "    </tr>\n",
       "    <tr>\n",
       "      <th>top</th>\n",
       "      <td>Robert Tait McKenzie</td>\n",
       "      <td>M</td>\n",
       "      <td>United States</td>\n",
       "      <td>USA</td>\n",
       "      <td>2000 Summer</td>\n",
       "      <td>Summer</td>\n",
       "      <td>London</td>\n",
       "      <td>Athletics</td>\n",
       "      <td>Football Men's Football</td>\n",
       "      <td>NA</td>\n",
       "    </tr>\n",
       "    <tr>\n",
       "      <th>freq</th>\n",
       "      <td>58</td>\n",
       "      <td>196594</td>\n",
       "      <td>17847</td>\n",
       "      <td>18853</td>\n",
       "      <td>13821</td>\n",
       "      <td>222552</td>\n",
       "      <td>22426</td>\n",
       "      <td>38624</td>\n",
       "      <td>5733</td>\n",
       "      <td>231333</td>\n",
       "    </tr>\n",
       "  </tbody>\n",
       "</table>\n",
       "</div>"
      ],
      "text/plain": [
       "                        Name     Sex           Team     NOC        Games  \\\n",
       "count                 271116  271116         271116  271116       271116   \n",
       "unique                134732       2           1184     230           51   \n",
       "top     Robert Tait McKenzie       M  United States     USA  2000 Summer   \n",
       "freq                      58  196594          17847   18853        13821   \n",
       "\n",
       "        Season    City      Sport                    Event   Medal  \n",
       "count   271116  271116     271116                   271116  271116  \n",
       "unique       2      42         66                      765       4  \n",
       "top     Summer  London  Athletics  Football Men's Football      NA  \n",
       "freq    222552   22426      38624                     5733  231333  "
      ]
     },
     "execution_count": 63,
     "metadata": {},
     "output_type": "execute_result"
    }
   ],
   "source": [
    "oly_data.describe(exclude='number')"
   ]
  },
  {
   "cell_type": "code",
   "execution_count": 64,
   "id": "25db7733",
   "metadata": {},
   "outputs": [],
   "source": [
    "#Apply the value_counts method for each non-numerical column, \n",
    "#check for their unique values and counts"
   ]
  },
  {
   "cell_type": "code",
   "execution_count": 65,
   "id": "22e87f54",
   "metadata": {},
   "outputs": [
    {
     "data": {
      "text/plain": [
       "Index(['Name', 'Sex', 'Team', 'NOC', 'Games', 'Season', 'City', 'Sport',\n",
       "       'Event', 'Medal'],\n",
       "      dtype='object')"
      ]
     },
     "execution_count": 65,
     "metadata": {},
     "output_type": "execute_result"
    }
   ],
   "source": [
    "cat_cols=oly_data.select_dtypes(exclude='number').columns\n",
    "cat_cols"
   ]
  },
  {
   "cell_type": "code",
   "execution_count": 66,
   "id": "5a2ec170",
   "metadata": {},
   "outputs": [
    {
     "name": "stdout",
     "output_type": "stream",
     "text": [
      "Robert Tait McKenzie            58\n",
      "Heikki Ilmari Savolainen        39\n",
      "Joseph \"Josy\" Stoffel           38\n",
      "Ioannis Theofilakis             36\n",
      "Takashi Ono                     33\n",
      "                                ..\n",
      "Tatyana Vasilyevna Kalmykova     1\n",
      "Mariya Lvovna Kalmykova          1\n",
      "Christine Kalmer                 1\n",
      "Joannis \"Jannis\" Kalmazidis      1\n",
      "Pierre-Georges LeClercq          1\n",
      "Name: Name, Length: 134732, dtype: int64\n",
      "M    196594\n",
      "F     74522\n",
      "Name: Sex, dtype: int64\n",
      "United States    17847\n",
      "France           11988\n",
      "Great Britain    11404\n",
      "Italy            10260\n",
      "Germany           9326\n",
      "                 ...  \n",
      "Briar                1\n",
      "Hannover             1\n",
      "Nan-2                1\n",
      "Brentina             1\n",
      "Digby                1\n",
      "Name: Team, Length: 1184, dtype: int64\n",
      "USA    18853\n",
      "FRA    12758\n",
      "GBR    12256\n",
      "ITA    10715\n",
      "GER     9830\n",
      "       ...  \n",
      "YMD        5\n",
      "SSD        3\n",
      "UNK        2\n",
      "NBO        2\n",
      "NFL        1\n",
      "Name: NOC, Length: 230, dtype: int64\n",
      "2000 Summer    13821\n",
      "1996 Summer    13780\n",
      "2016 Summer    13688\n",
      "2008 Summer    13602\n",
      "2004 Summer    13443\n",
      "1992 Summer    12977\n",
      "2012 Summer    12920\n",
      "1988 Summer    12037\n",
      "1972 Summer    10304\n",
      "1984 Summer     9454\n",
      "1976 Summer     8641\n",
      "1968 Summer     8588\n",
      "1952 Summer     8270\n",
      "1960 Summer     8119\n",
      "1964 Summer     7702\n",
      "1980 Summer     7191\n",
      "1936 Summer     6506\n",
      "1948 Summer     6405\n",
      "1924 Summer     5233\n",
      "1956 Summer     5127\n",
      "1928 Summer     4992\n",
      "2014 Winter     4891\n",
      "2010 Winter     4402\n",
      "2006 Winter     4382\n",
      "1920 Summer     4292\n",
      "2002 Winter     4109\n",
      "1912 Summer     4040\n",
      "1998 Winter     3605\n",
      "1992 Winter     3436\n",
      "1994 Winter     3160\n",
      "1908 Summer     3101\n",
      "1932 Summer     2969\n",
      "1988 Winter     2639\n",
      "1984 Winter     2134\n",
      "1900 Summer     1936\n",
      "1968 Winter     1891\n",
      "1976 Winter     1861\n",
      "1964 Winter     1778\n",
      "1980 Winter     1746\n",
      "1906 Summer     1733\n",
      "1972 Winter     1655\n",
      "1956 Winter     1307\n",
      "1904 Summer     1301\n",
      "1960 Winter     1116\n",
      "1952 Winter     1088\n",
      "1948 Winter     1075\n",
      "1936 Winter      895\n",
      "1928 Winter      582\n",
      "1924 Winter      460\n",
      "1896 Summer      380\n",
      "1932 Winter      352\n",
      "Name: Games, dtype: int64\n",
      "Summer    222552\n",
      "Winter     48564\n",
      "Name: Season, dtype: int64\n",
      "London                    22426\n",
      "Athina                    15556\n",
      "Sydney                    13821\n",
      "Atlanta                   13780\n",
      "Rio de Janeiro            13688\n",
      "Beijing                   13602\n",
      "Barcelona                 12977\n",
      "Los Angeles               12423\n",
      "Seoul                     12037\n",
      "Munich                    10304\n",
      "Montreal                   8641\n",
      "Mexico City                8588\n",
      "Helsinki                   8270\n",
      "Roma                       8119\n",
      "Tokyo                      7702\n",
      "Moskva                     7191\n",
      "Paris                      7169\n",
      "Berlin                     6506\n",
      "Amsterdam                  4992\n",
      "Sochi                      4891\n",
      "Melbourne                  4829\n",
      "Vancouver                  4402\n",
      "Torino                     4382\n",
      "Stockholm                  4338\n",
      "Antwerpen                  4292\n",
      "Salt Lake City             4109\n",
      "Innsbruck                  3639\n",
      "Nagano                     3605\n",
      "Albertville                3436\n",
      "Lillehammer                3160\n",
      "Calgary                    2639\n",
      "Sarajevo                   2134\n",
      "Lake Placid                2098\n",
      "Grenoble                   1891\n",
      "Sankt Moritz               1657\n",
      "Sapporo                    1655\n",
      "Cortina d'Ampezzo          1307\n",
      "St. Louis                  1301\n",
      "Squaw Valley               1116\n",
      "Oslo                       1088\n",
      "Garmisch-Partenkirchen      895\n",
      "Chamonix                    460\n",
      "Name: City, dtype: int64\n",
      "Athletics        38624\n",
      "Gymnastics       26707\n",
      "Swimming         23195\n",
      "Shooting         11448\n",
      "Cycling          10859\n",
      "                 ...  \n",
      "Racquets            12\n",
      "Jeu De Paume        11\n",
      "Roque                4\n",
      "Basque Pelota        2\n",
      "Aeronautics          1\n",
      "Name: Sport, Length: 66, dtype: int64\n",
      "Football Men's Football                                5733\n",
      "Ice Hockey Men's Ice Hockey                            4762\n",
      "Hockey Men's Hockey                                    3958\n",
      "Water Polo Men's Water Polo                            3358\n",
      "Basketball Men's Basketball                            3280\n",
      "                                                       ... \n",
      "Croquet Mixed Doubles                                     2\n",
      "Archery Men's Target Archery, 50 metres, Individual       2\n",
      "Archery Men's Target Archery, 33 metres, Individual       2\n",
      "Archery Men's Target Archery, 28 metres, Individual       2\n",
      "Aeronautics Mixed Aeronautics                             1\n",
      "Name: Event, Length: 765, dtype: int64\n",
      "NA        231333\n",
      "Gold       13372\n",
      "Bronze     13295\n",
      "Silver     13116\n",
      "Name: Medal, dtype: int64\n"
     ]
    }
   ],
   "source": [
    "for col in cat_cols:\n",
    "    print(oly_data[col].value_counts())"
   ]
  },
  {
   "cell_type": "code",
   "execution_count": 67,
   "id": "ac4adbf0",
   "metadata": {},
   "outputs": [],
   "source": [
    "#Check the first record within the dataset for each Olympic Sport"
   ]
  },
  {
   "cell_type": "code",
   "execution_count": 68,
   "id": "7f1d6620",
   "metadata": {},
   "outputs": [
    {
     "data": {
      "text/html": [
       "<div>\n",
       "<style scoped>\n",
       "    .dataframe tbody tr th:only-of-type {\n",
       "        vertical-align: middle;\n",
       "    }\n",
       "\n",
       "    .dataframe tbody tr th {\n",
       "        vertical-align: top;\n",
       "    }\n",
       "\n",
       "    .dataframe thead th {\n",
       "        text-align: right;\n",
       "    }\n",
       "</style>\n",
       "<table border=\"1\" class=\"dataframe\">\n",
       "  <thead>\n",
       "    <tr style=\"text-align: right;\">\n",
       "      <th></th>\n",
       "      <th>ID</th>\n",
       "      <th>Name</th>\n",
       "      <th>Sex</th>\n",
       "      <th>Age</th>\n",
       "      <th>Height</th>\n",
       "      <th>Weight</th>\n",
       "      <th>Team</th>\n",
       "      <th>NOC</th>\n",
       "      <th>Games</th>\n",
       "      <th>Year</th>\n",
       "      <th>Season</th>\n",
       "      <th>City</th>\n",
       "      <th>Event</th>\n",
       "      <th>Medal</th>\n",
       "    </tr>\n",
       "    <tr>\n",
       "      <th>Sport</th>\n",
       "      <th></th>\n",
       "      <th></th>\n",
       "      <th></th>\n",
       "      <th></th>\n",
       "      <th></th>\n",
       "      <th></th>\n",
       "      <th></th>\n",
       "      <th></th>\n",
       "      <th></th>\n",
       "      <th></th>\n",
       "      <th></th>\n",
       "      <th></th>\n",
       "      <th></th>\n",
       "      <th></th>\n",
       "    </tr>\n",
       "  </thead>\n",
       "  <tbody>\n",
       "    <tr>\n",
       "      <th>Aeronautics</th>\n",
       "      <td>107506</td>\n",
       "      <td>Hermann Schreiber</td>\n",
       "      <td>M</td>\n",
       "      <td>26.000000</td>\n",
       "      <td>174.589865</td>\n",
       "      <td>71.098729</td>\n",
       "      <td>Switzerland</td>\n",
       "      <td>SUI</td>\n",
       "      <td>1936 Summer</td>\n",
       "      <td>1936.0</td>\n",
       "      <td>Summer</td>\n",
       "      <td>Berlin</td>\n",
       "      <td>Aeronautics Mixed Aeronautics</td>\n",
       "      <td>Gold</td>\n",
       "    </tr>\n",
       "    <tr>\n",
       "      <th>Alpine Skiing</th>\n",
       "      <td>32818</td>\n",
       "      <td>Reat Erce</td>\n",
       "      <td>M</td>\n",
       "      <td>17.000000</td>\n",
       "      <td>172.439922</td>\n",
       "      <td>66.363886</td>\n",
       "      <td>Turkey</td>\n",
       "      <td>TUR</td>\n",
       "      <td>1936 Winter</td>\n",
       "      <td>1936.0</td>\n",
       "      <td>Winter</td>\n",
       "      <td>Garmisch-Partenkirchen</td>\n",
       "      <td>Alpine Skiing Men's Combined</td>\n",
       "      <td>NA</td>\n",
       "    </tr>\n",
       "    <tr>\n",
       "      <th>Alpinism</th>\n",
       "      <td>74134</td>\n",
       "      <td>George Herbert Leigh Mallory</td>\n",
       "      <td>M</td>\n",
       "      <td>37.000000</td>\n",
       "      <td>176.995129</td>\n",
       "      <td>76.867544</td>\n",
       "      <td>Great Britain</td>\n",
       "      <td>GBR</td>\n",
       "      <td>1924 Winter</td>\n",
       "      <td>1924.0</td>\n",
       "      <td>Winter</td>\n",
       "      <td>Chamonix</td>\n",
       "      <td>Alpinism Mixed Alpinism</td>\n",
       "      <td>Gold</td>\n",
       "    </tr>\n",
       "    <tr>\n",
       "      <th>Archery</th>\n",
       "      <td>67722</td>\n",
       "      <td>Lecomte</td>\n",
       "      <td>M</td>\n",
       "      <td>27.618563</td>\n",
       "      <td>174.310796</td>\n",
       "      <td>71.897322</td>\n",
       "      <td>France</td>\n",
       "      <td>FRA</td>\n",
       "      <td>1900 Summer</td>\n",
       "      <td>1900.0</td>\n",
       "      <td>Summer</td>\n",
       "      <td>Paris</td>\n",
       "      <td>Archery Men's Au Cordon Dore, 50 metres</td>\n",
       "      <td>NA</td>\n",
       "    </tr>\n",
       "    <tr>\n",
       "      <th>Art Competitions</th>\n",
       "      <td>48741</td>\n",
       "      <td>Konrad Hippenmeier</td>\n",
       "      <td>M</td>\n",
       "      <td>31.000000</td>\n",
       "      <td>175.339389</td>\n",
       "      <td>73.692765</td>\n",
       "      <td>Switzerland</td>\n",
       "      <td>SUI</td>\n",
       "      <td>1912 Summer</td>\n",
       "      <td>1912.0</td>\n",
       "      <td>Summer</td>\n",
       "      <td>Stockholm</td>\n",
       "      <td>Art Competitions Mixed Architecture</td>\n",
       "      <td>NA</td>\n",
       "    </tr>\n",
       "    <tr>\n",
       "      <th>...</th>\n",
       "      <td>...</td>\n",
       "      <td>...</td>\n",
       "      <td>...</td>\n",
       "      <td>...</td>\n",
       "      <td>...</td>\n",
       "      <td>...</td>\n",
       "      <td>...</td>\n",
       "      <td>...</td>\n",
       "      <td>...</td>\n",
       "      <td>...</td>\n",
       "      <td>...</td>\n",
       "      <td>...</td>\n",
       "      <td>...</td>\n",
       "      <td>...</td>\n",
       "    </tr>\n",
       "    <tr>\n",
       "      <th>Tug-Of-War</th>\n",
       "      <td>86368</td>\n",
       "      <td>August Nilsson</td>\n",
       "      <td>M</td>\n",
       "      <td>27.000000</td>\n",
       "      <td>174.161415</td>\n",
       "      <td>71.570173</td>\n",
       "      <td>Denmark/Sweden</td>\n",
       "      <td>SWE</td>\n",
       "      <td>1900 Summer</td>\n",
       "      <td>1900.0</td>\n",
       "      <td>Summer</td>\n",
       "      <td>Paris</td>\n",
       "      <td>Tug-Of-War Men's Tug-Of-War</td>\n",
       "      <td>Gold</td>\n",
       "    </tr>\n",
       "    <tr>\n",
       "      <th>Volleyball</th>\n",
       "      <td>14306</td>\n",
       "      <td>Georgi Spasov Boyadzhiev</td>\n",
       "      <td>M</td>\n",
       "      <td>21.000000</td>\n",
       "      <td>177.000000</td>\n",
       "      <td>76.000000</td>\n",
       "      <td>Bulgaria</td>\n",
       "      <td>BUL</td>\n",
       "      <td>1964 Summer</td>\n",
       "      <td>1964.0</td>\n",
       "      <td>Summer</td>\n",
       "      <td>Tokyo</td>\n",
       "      <td>Volleyball Men's Volleyball</td>\n",
       "      <td>NA</td>\n",
       "    </tr>\n",
       "    <tr>\n",
       "      <th>Water Polo</th>\n",
       "      <td>74733</td>\n",
       "      <td>Auguste Jean Baptiste Louis Joseph Marc</td>\n",
       "      <td>M</td>\n",
       "      <td>19.000000</td>\n",
       "      <td>172.250355</td>\n",
       "      <td>67.361423</td>\n",
       "      <td>Pupilles de Neptune de Lille #2-1</td>\n",
       "      <td>FRA</td>\n",
       "      <td>1900 Summer</td>\n",
       "      <td>1900.0</td>\n",
       "      <td>Summer</td>\n",
       "      <td>Paris</td>\n",
       "      <td>Water Polo Men's Water Polo</td>\n",
       "      <td>Bronze</td>\n",
       "    </tr>\n",
       "    <tr>\n",
       "      <th>Weightlifting</th>\n",
       "      <td>54456</td>\n",
       "      <td>Alexander Viggo Jensen</td>\n",
       "      <td>M</td>\n",
       "      <td>21.000000</td>\n",
       "      <td>172.653972</td>\n",
       "      <td>68.407539</td>\n",
       "      <td>Denmark</td>\n",
       "      <td>DEN</td>\n",
       "      <td>1896 Summer</td>\n",
       "      <td>1896.0</td>\n",
       "      <td>Summer</td>\n",
       "      <td>Athina</td>\n",
       "      <td>Weightlifting Men's Unlimited, One Hand</td>\n",
       "      <td>Silver</td>\n",
       "    </tr>\n",
       "    <tr>\n",
       "      <th>Wrestling</th>\n",
       "      <td>122329</td>\n",
       "      <td>Georgios Tsitas</td>\n",
       "      <td>M</td>\n",
       "      <td>27.721559</td>\n",
       "      <td>174.261331</td>\n",
       "      <td>71.945520</td>\n",
       "      <td>Greece</td>\n",
       "      <td>GRE</td>\n",
       "      <td>1896 Summer</td>\n",
       "      <td>1896.0</td>\n",
       "      <td>Summer</td>\n",
       "      <td>Athina</td>\n",
       "      <td>Wrestling Men's Unlimited Class, Greco-Roman</td>\n",
       "      <td>Silver</td>\n",
       "    </tr>\n",
       "  </tbody>\n",
       "</table>\n",
       "<p>66 rows × 14 columns</p>\n",
       "</div>"
      ],
      "text/plain": [
       "                      ID                                     Name Sex  \\\n",
       "Sport                                                                   \n",
       "Aeronautics       107506                        Hermann Schreiber   M   \n",
       "Alpine Skiing      32818                                Reat Erce   M   \n",
       "Alpinism           74134             George Herbert Leigh Mallory   M   \n",
       "Archery            67722                                  Lecomte   M   \n",
       "Art Competitions   48741                       Konrad Hippenmeier   M   \n",
       "...                  ...                                      ...  ..   \n",
       "Tug-Of-War         86368                           August Nilsson   M   \n",
       "Volleyball         14306                 Georgi Spasov Boyadzhiev   M   \n",
       "Water Polo         74733  Auguste Jean Baptiste Louis Joseph Marc   M   \n",
       "Weightlifting      54456                   Alexander Viggo Jensen   M   \n",
       "Wrestling         122329                          Georgios Tsitas   M   \n",
       "\n",
       "                        Age      Height     Weight  \\\n",
       "Sport                                                \n",
       "Aeronautics       26.000000  174.589865  71.098729   \n",
       "Alpine Skiing     17.000000  172.439922  66.363886   \n",
       "Alpinism          37.000000  176.995129  76.867544   \n",
       "Archery           27.618563  174.310796  71.897322   \n",
       "Art Competitions  31.000000  175.339389  73.692765   \n",
       "...                     ...         ...        ...   \n",
       "Tug-Of-War        27.000000  174.161415  71.570173   \n",
       "Volleyball        21.000000  177.000000  76.000000   \n",
       "Water Polo        19.000000  172.250355  67.361423   \n",
       "Weightlifting     21.000000  172.653972  68.407539   \n",
       "Wrestling         27.721559  174.261331  71.945520   \n",
       "\n",
       "                                               Team  NOC        Games    Year  \\\n",
       "Sport                                                                           \n",
       "Aeronautics                             Switzerland  SUI  1936 Summer  1936.0   \n",
       "Alpine Skiing                                Turkey  TUR  1936 Winter  1936.0   \n",
       "Alpinism                              Great Britain  GBR  1924 Winter  1924.0   \n",
       "Archery                                      France  FRA  1900 Summer  1900.0   \n",
       "Art Competitions                        Switzerland  SUI  1912 Summer  1912.0   \n",
       "...                                             ...  ...          ...     ...   \n",
       "Tug-Of-War                           Denmark/Sweden  SWE  1900 Summer  1900.0   \n",
       "Volleyball                                 Bulgaria  BUL  1964 Summer  1964.0   \n",
       "Water Polo        Pupilles de Neptune de Lille #2-1  FRA  1900 Summer  1900.0   \n",
       "Weightlifting                               Denmark  DEN  1896 Summer  1896.0   \n",
       "Wrestling                                    Greece  GRE  1896 Summer  1896.0   \n",
       "\n",
       "                  Season                    City  \\\n",
       "Sport                                              \n",
       "Aeronautics       Summer                  Berlin   \n",
       "Alpine Skiing     Winter  Garmisch-Partenkirchen   \n",
       "Alpinism          Winter                Chamonix   \n",
       "Archery           Summer                   Paris   \n",
       "Art Competitions  Summer               Stockholm   \n",
       "...                  ...                     ...   \n",
       "Tug-Of-War        Summer                   Paris   \n",
       "Volleyball        Summer                   Tokyo   \n",
       "Water Polo        Summer                   Paris   \n",
       "Weightlifting     Summer                  Athina   \n",
       "Wrestling         Summer                  Athina   \n",
       "\n",
       "                                                         Event   Medal  \n",
       "Sport                                                                   \n",
       "Aeronautics                      Aeronautics Mixed Aeronautics    Gold  \n",
       "Alpine Skiing                     Alpine Skiing Men's Combined      NA  \n",
       "Alpinism                               Alpinism Mixed Alpinism    Gold  \n",
       "Archery                Archery Men's Au Cordon Dore, 50 metres      NA  \n",
       "Art Competitions           Art Competitions Mixed Architecture      NA  \n",
       "...                                                        ...     ...  \n",
       "Tug-Of-War                         Tug-Of-War Men's Tug-Of-War    Gold  \n",
       "Volleyball                         Volleyball Men's Volleyball      NA  \n",
       "Water Polo                         Water Polo Men's Water Polo  Bronze  \n",
       "Weightlifting          Weightlifting Men's Unlimited, One Hand  Silver  \n",
       "Wrestling         Wrestling Men's Unlimited Class, Greco-Roman  Silver  \n",
       "\n",
       "[66 rows x 14 columns]"
      ]
     },
     "execution_count": 68,
     "metadata": {},
     "output_type": "execute_result"
    }
   ],
   "source": [
    "oly_data.sort_values('Year').groupby('Sport').first()"
   ]
  },
  {
   "cell_type": "code",
   "execution_count": 69,
   "id": "32378283",
   "metadata": {},
   "outputs": [],
   "source": [
    "#What are the average Age, Height, Weight of female versus male Olympic athletes"
   ]
  },
  {
   "cell_type": "code",
   "execution_count": 70,
   "id": "774cad50",
   "metadata": {},
   "outputs": [
    {
     "data": {
      "text/html": [
       "<div>\n",
       "<style scoped>\n",
       "    .dataframe tbody tr th:only-of-type {\n",
       "        vertical-align: middle;\n",
       "    }\n",
       "\n",
       "    .dataframe tbody tr th {\n",
       "        vertical-align: top;\n",
       "    }\n",
       "\n",
       "    .dataframe thead th {\n",
       "        text-align: right;\n",
       "    }\n",
       "</style>\n",
       "<table border=\"1\" class=\"dataframe\">\n",
       "  <thead>\n",
       "    <tr style=\"text-align: right;\">\n",
       "      <th></th>\n",
       "      <th>Age</th>\n",
       "      <th>Height</th>\n",
       "      <th>Weight</th>\n",
       "    </tr>\n",
       "    <tr>\n",
       "      <th>Sex</th>\n",
       "      <th></th>\n",
       "      <th></th>\n",
       "      <th></th>\n",
       "    </tr>\n",
       "  </thead>\n",
       "  <tbody>\n",
       "    <tr>\n",
       "      <th>F</th>\n",
       "      <td>23.748234</td>\n",
       "      <td>168.476034</td>\n",
       "      <td>60.960650</td>\n",
       "    </tr>\n",
       "    <tr>\n",
       "      <th>M</th>\n",
       "      <td>26.302496</td>\n",
       "      <td>177.859161</td>\n",
       "      <td>74.740574</td>\n",
       "    </tr>\n",
       "  </tbody>\n",
       "</table>\n",
       "</div>"
      ],
      "text/plain": [
       "           Age      Height     Weight\n",
       "Sex                                  \n",
       "F    23.748234  168.476034  60.960650\n",
       "M    26.302496  177.859161  74.740574"
      ]
     },
     "execution_count": 70,
     "metadata": {},
     "output_type": "execute_result"
    }
   ],
   "source": [
    "oly_data.groupby('Sex')[['Age','Height','Weight']].mean()"
   ]
  },
  {
   "cell_type": "code",
   "execution_count": 71,
   "id": "8c097359",
   "metadata": {},
   "outputs": [],
   "source": [
    "#What are the minimum, average, maximum Age, Height, Weight of athletes in different Year¶\n",
    "#olympics.groupby('Year')[['Age','Height','Weight']].agg(['min', 'mean', 'max'])"
   ]
  },
  {
   "cell_type": "code",
   "execution_count": 72,
   "id": "9915447e",
   "metadata": {},
   "outputs": [
    {
     "data": {
      "text/html": [
       "<div>\n",
       "<style scoped>\n",
       "    .dataframe tbody tr th:only-of-type {\n",
       "        vertical-align: middle;\n",
       "    }\n",
       "\n",
       "    .dataframe tbody tr th {\n",
       "        vertical-align: top;\n",
       "    }\n",
       "\n",
       "    .dataframe thead tr th {\n",
       "        text-align: left;\n",
       "    }\n",
       "\n",
       "    .dataframe thead tr:last-of-type th {\n",
       "        text-align: right;\n",
       "    }\n",
       "</style>\n",
       "<table border=\"1\" class=\"dataframe\">\n",
       "  <thead>\n",
       "    <tr>\n",
       "      <th></th>\n",
       "      <th colspan=\"3\" halign=\"left\">Age</th>\n",
       "      <th colspan=\"3\" halign=\"left\">Height</th>\n",
       "      <th colspan=\"3\" halign=\"left\">Weight</th>\n",
       "    </tr>\n",
       "    <tr>\n",
       "      <th></th>\n",
       "      <th>min</th>\n",
       "      <th>mean</th>\n",
       "      <th>max</th>\n",
       "      <th>min</th>\n",
       "      <th>mean</th>\n",
       "      <th>max</th>\n",
       "      <th>min</th>\n",
       "      <th>mean</th>\n",
       "      <th>max</th>\n",
       "    </tr>\n",
       "    <tr>\n",
       "      <th>Year</th>\n",
       "      <th></th>\n",
       "      <th></th>\n",
       "      <th></th>\n",
       "      <th></th>\n",
       "      <th></th>\n",
       "      <th></th>\n",
       "      <th></th>\n",
       "      <th></th>\n",
       "      <th></th>\n",
       "    </tr>\n",
       "  </thead>\n",
       "  <tbody>\n",
       "    <tr>\n",
       "      <th>1896.0</th>\n",
       "      <td>10.0</td>\n",
       "      <td>25.364356</td>\n",
       "      <td>40.0</td>\n",
       "      <td>154.0</td>\n",
       "      <td>173.569607</td>\n",
       "      <td>188.000000</td>\n",
       "      <td>45.000000</td>\n",
       "      <td>70.982411</td>\n",
       "      <td>106.0</td>\n",
       "    </tr>\n",
       "    <tr>\n",
       "      <th>1900.0</th>\n",
       "      <td>13.0</td>\n",
       "      <td>28.454101</td>\n",
       "      <td>71.0</td>\n",
       "      <td>153.0</td>\n",
       "      <td>174.664627</td>\n",
       "      <td>191.000000</td>\n",
       "      <td>51.000000</td>\n",
       "      <td>72.502816</td>\n",
       "      <td>102.0</td>\n",
       "    </tr>\n",
       "    <tr>\n",
       "      <th>1904.0</th>\n",
       "      <td>14.0</td>\n",
       "      <td>26.867754</td>\n",
       "      <td>71.0</td>\n",
       "      <td>155.0</td>\n",
       "      <td>174.435046</td>\n",
       "      <td>195.000000</td>\n",
       "      <td>43.000000</td>\n",
       "      <td>71.715326</td>\n",
       "      <td>115.0</td>\n",
       "    </tr>\n",
       "    <tr>\n",
       "      <th>1906.0</th>\n",
       "      <td>13.0</td>\n",
       "      <td>27.272610</td>\n",
       "      <td>54.0</td>\n",
       "      <td>165.0</td>\n",
       "      <td>174.946975</td>\n",
       "      <td>196.000000</td>\n",
       "      <td>52.000000</td>\n",
       "      <td>72.309427</td>\n",
       "      <td>114.0</td>\n",
       "    </tr>\n",
       "    <tr>\n",
       "      <th>1908.0</th>\n",
       "      <td>14.0</td>\n",
       "      <td>27.061116</td>\n",
       "      <td>61.0</td>\n",
       "      <td>157.0</td>\n",
       "      <td>175.059627</td>\n",
       "      <td>201.000000</td>\n",
       "      <td>51.000000</td>\n",
       "      <td>72.484058</td>\n",
       "      <td>115.0</td>\n",
       "    </tr>\n",
       "    <tr>\n",
       "      <th>1912.0</th>\n",
       "      <td>13.0</td>\n",
       "      <td>27.528582</td>\n",
       "      <td>67.0</td>\n",
       "      <td>157.0</td>\n",
       "      <td>175.149494</td>\n",
       "      <td>200.000000</td>\n",
       "      <td>49.000000</td>\n",
       "      <td>72.354296</td>\n",
       "      <td>125.0</td>\n",
       "    </tr>\n",
       "    <tr>\n",
       "      <th>1920.0</th>\n",
       "      <td>13.0</td>\n",
       "      <td>28.861062</td>\n",
       "      <td>72.0</td>\n",
       "      <td>142.0</td>\n",
       "      <td>175.220153</td>\n",
       "      <td>218.770915</td>\n",
       "      <td>33.074491</td>\n",
       "      <td>72.791440</td>\n",
       "      <td>146.0</td>\n",
       "    </tr>\n",
       "    <tr>\n",
       "      <th>1924.0</th>\n",
       "      <td>11.0</td>\n",
       "      <td>28.101622</td>\n",
       "      <td>81.0</td>\n",
       "      <td>142.0</td>\n",
       "      <td>174.980222</td>\n",
       "      <td>218.578230</td>\n",
       "      <td>34.356723</td>\n",
       "      <td>72.217506</td>\n",
       "      <td>146.0</td>\n",
       "    </tr>\n",
       "    <tr>\n",
       "      <th>1928.0</th>\n",
       "      <td>11.0</td>\n",
       "      <td>28.728275</td>\n",
       "      <td>97.0</td>\n",
       "      <td>147.0</td>\n",
       "      <td>175.282553</td>\n",
       "      <td>211.000000</td>\n",
       "      <td>41.000000</td>\n",
       "      <td>72.568654</td>\n",
       "      <td>125.0</td>\n",
       "    </tr>\n",
       "    <tr>\n",
       "      <th>1932.0</th>\n",
       "      <td>11.0</td>\n",
       "      <td>32.002855</td>\n",
       "      <td>96.0</td>\n",
       "      <td>147.0</td>\n",
       "      <td>175.826347</td>\n",
       "      <td>200.000000</td>\n",
       "      <td>40.090648</td>\n",
       "      <td>73.867313</td>\n",
       "      <td>110.0</td>\n",
       "    </tr>\n",
       "    <tr>\n",
       "      <th>1936.0</th>\n",
       "      <td>11.0</td>\n",
       "      <td>27.506104</td>\n",
       "      <td>74.0</td>\n",
       "      <td>147.0</td>\n",
       "      <td>175.155241</td>\n",
       "      <td>205.000000</td>\n",
       "      <td>37.000000</td>\n",
       "      <td>71.960859</td>\n",
       "      <td>138.0</td>\n",
       "    </tr>\n",
       "    <tr>\n",
       "      <th>1948.0</th>\n",
       "      <td>12.0</td>\n",
       "      <td>28.407495</td>\n",
       "      <td>84.0</td>\n",
       "      <td>140.0</td>\n",
       "      <td>175.567741</td>\n",
       "      <td>213.000000</td>\n",
       "      <td>47.000000</td>\n",
       "      <td>72.408041</td>\n",
       "      <td>125.0</td>\n",
       "    </tr>\n",
       "    <tr>\n",
       "      <th>1952.0</th>\n",
       "      <td>12.0</td>\n",
       "      <td>26.165217</td>\n",
       "      <td>65.0</td>\n",
       "      <td>150.0</td>\n",
       "      <td>174.812820</td>\n",
       "      <td>213.000000</td>\n",
       "      <td>42.000000</td>\n",
       "      <td>71.097510</td>\n",
       "      <td>145.0</td>\n",
       "    </tr>\n",
       "    <tr>\n",
       "      <th>1956.0</th>\n",
       "      <td>12.0</td>\n",
       "      <td>25.949715</td>\n",
       "      <td>67.0</td>\n",
       "      <td>137.0</td>\n",
       "      <td>174.607226</td>\n",
       "      <td>218.000000</td>\n",
       "      <td>28.000000</td>\n",
       "      <td>71.041599</td>\n",
       "      <td>141.0</td>\n",
       "    </tr>\n",
       "    <tr>\n",
       "      <th>1960.0</th>\n",
       "      <td>11.0</td>\n",
       "      <td>25.187182</td>\n",
       "      <td>65.0</td>\n",
       "      <td>137.0</td>\n",
       "      <td>173.316035</td>\n",
       "      <td>218.000000</td>\n",
       "      <td>36.000000</td>\n",
       "      <td>69.480564</td>\n",
       "      <td>141.0</td>\n",
       "    </tr>\n",
       "    <tr>\n",
       "      <th>1964.0</th>\n",
       "      <td>12.0</td>\n",
       "      <td>24.948374</td>\n",
       "      <td>60.0</td>\n",
       "      <td>137.0</td>\n",
       "      <td>173.546073</td>\n",
       "      <td>218.000000</td>\n",
       "      <td>38.000000</td>\n",
       "      <td>69.759825</td>\n",
       "      <td>163.0</td>\n",
       "    </tr>\n",
       "    <tr>\n",
       "      <th>1968.0</th>\n",
       "      <td>11.0</td>\n",
       "      <td>24.263374</td>\n",
       "      <td>68.0</td>\n",
       "      <td>127.0</td>\n",
       "      <td>173.959439</td>\n",
       "      <td>216.000000</td>\n",
       "      <td>34.000000</td>\n",
       "      <td>69.609517</td>\n",
       "      <td>163.0</td>\n",
       "    </tr>\n",
       "    <tr>\n",
       "      <th>1972.0</th>\n",
       "      <td>12.0</td>\n",
       "      <td>24.318900</td>\n",
       "      <td>69.0</td>\n",
       "      <td>130.0</td>\n",
       "      <td>174.562405</td>\n",
       "      <td>223.000000</td>\n",
       "      <td>38.000000</td>\n",
       "      <td>70.003339</td>\n",
       "      <td>182.0</td>\n",
       "    </tr>\n",
       "    <tr>\n",
       "      <th>1976.0</th>\n",
       "      <td>12.0</td>\n",
       "      <td>23.850452</td>\n",
       "      <td>70.0</td>\n",
       "      <td>136.0</td>\n",
       "      <td>174.865117</td>\n",
       "      <td>220.000000</td>\n",
       "      <td>30.000000</td>\n",
       "      <td>70.000335</td>\n",
       "      <td>163.0</td>\n",
       "    </tr>\n",
       "    <tr>\n",
       "      <th>1980.0</th>\n",
       "      <td>13.0</td>\n",
       "      <td>23.734613</td>\n",
       "      <td>70.0</td>\n",
       "      <td>131.0</td>\n",
       "      <td>175.508742</td>\n",
       "      <td>220.000000</td>\n",
       "      <td>25.000000</td>\n",
       "      <td>70.624903</td>\n",
       "      <td>190.0</td>\n",
       "    </tr>\n",
       "    <tr>\n",
       "      <th>1984.0</th>\n",
       "      <td>12.0</td>\n",
       "      <td>23.925675</td>\n",
       "      <td>60.0</td>\n",
       "      <td>132.0</td>\n",
       "      <td>175.524970</td>\n",
       "      <td>218.000000</td>\n",
       "      <td>31.000000</td>\n",
       "      <td>70.257754</td>\n",
       "      <td>150.0</td>\n",
       "    </tr>\n",
       "    <tr>\n",
       "      <th>1988.0</th>\n",
       "      <td>11.0</td>\n",
       "      <td>24.085104</td>\n",
       "      <td>70.0</td>\n",
       "      <td>127.0</td>\n",
       "      <td>175.698459</td>\n",
       "      <td>223.000000</td>\n",
       "      <td>32.000000</td>\n",
       "      <td>70.443543</td>\n",
       "      <td>161.0</td>\n",
       "    </tr>\n",
       "    <tr>\n",
       "      <th>1992.0</th>\n",
       "      <td>11.0</td>\n",
       "      <td>24.319680</td>\n",
       "      <td>62.0</td>\n",
       "      <td>136.0</td>\n",
       "      <td>175.959574</td>\n",
       "      <td>226.000000</td>\n",
       "      <td>30.000000</td>\n",
       "      <td>70.862030</td>\n",
       "      <td>176.5</td>\n",
       "    </tr>\n",
       "    <tr>\n",
       "      <th>1994.0</th>\n",
       "      <td>13.0</td>\n",
       "      <td>24.422594</td>\n",
       "      <td>46.0</td>\n",
       "      <td>148.0</td>\n",
       "      <td>175.158296</td>\n",
       "      <td>200.000000</td>\n",
       "      <td>40.000000</td>\n",
       "      <td>70.972262</td>\n",
       "      <td>113.0</td>\n",
       "    </tr>\n",
       "    <tr>\n",
       "      <th>1996.0</th>\n",
       "      <td>12.0</td>\n",
       "      <td>24.915179</td>\n",
       "      <td>63.0</td>\n",
       "      <td>136.0</td>\n",
       "      <td>175.836214</td>\n",
       "      <td>223.000000</td>\n",
       "      <td>30.000000</td>\n",
       "      <td>70.818289</td>\n",
       "      <td>176.5</td>\n",
       "    </tr>\n",
       "    <tr>\n",
       "      <th>1998.0</th>\n",
       "      <td>14.0</td>\n",
       "      <td>25.163160</td>\n",
       "      <td>50.0</td>\n",
       "      <td>142.0</td>\n",
       "      <td>174.589636</td>\n",
       "      <td>200.000000</td>\n",
       "      <td>32.000000</td>\n",
       "      <td>70.898616</td>\n",
       "      <td>123.0</td>\n",
       "    </tr>\n",
       "    <tr>\n",
       "      <th>2000.0</th>\n",
       "      <td>13.0</td>\n",
       "      <td>25.422476</td>\n",
       "      <td>63.0</td>\n",
       "      <td>136.0</td>\n",
       "      <td>176.085713</td>\n",
       "      <td>226.000000</td>\n",
       "      <td>28.000000</td>\n",
       "      <td>71.106805</td>\n",
       "      <td>180.0</td>\n",
       "    </tr>\n",
       "    <tr>\n",
       "      <th>2002.0</th>\n",
       "      <td>15.0</td>\n",
       "      <td>25.916281</td>\n",
       "      <td>48.0</td>\n",
       "      <td>149.0</td>\n",
       "      <td>174.709888</td>\n",
       "      <td>201.000000</td>\n",
       "      <td>42.000000</td>\n",
       "      <td>71.164405</td>\n",
       "      <td>123.0</td>\n",
       "    </tr>\n",
       "    <tr>\n",
       "      <th>2004.0</th>\n",
       "      <td>13.0</td>\n",
       "      <td>25.639515</td>\n",
       "      <td>57.0</td>\n",
       "      <td>139.0</td>\n",
       "      <td>175.971393</td>\n",
       "      <td>226.000000</td>\n",
       "      <td>30.000000</td>\n",
       "      <td>71.284135</td>\n",
       "      <td>198.0</td>\n",
       "    </tr>\n",
       "    <tr>\n",
       "      <th>2006.0</th>\n",
       "      <td>14.0</td>\n",
       "      <td>25.959151</td>\n",
       "      <td>52.0</td>\n",
       "      <td>147.0</td>\n",
       "      <td>174.628393</td>\n",
       "      <td>206.000000</td>\n",
       "      <td>38.000000</td>\n",
       "      <td>70.512440</td>\n",
       "      <td>127.0</td>\n",
       "    </tr>\n",
       "    <tr>\n",
       "      <th>2008.0</th>\n",
       "      <td>12.0</td>\n",
       "      <td>25.733541</td>\n",
       "      <td>67.0</td>\n",
       "      <td>137.0</td>\n",
       "      <td>176.209780</td>\n",
       "      <td>226.000000</td>\n",
       "      <td>28.000000</td>\n",
       "      <td>71.375322</td>\n",
       "      <td>214.0</td>\n",
       "    </tr>\n",
       "    <tr>\n",
       "      <th>2010.0</th>\n",
       "      <td>15.0</td>\n",
       "      <td>26.124262</td>\n",
       "      <td>51.0</td>\n",
       "      <td>149.0</td>\n",
       "      <td>174.918873</td>\n",
       "      <td>206.000000</td>\n",
       "      <td>38.000000</td>\n",
       "      <td>70.733917</td>\n",
       "      <td>116.0</td>\n",
       "    </tr>\n",
       "    <tr>\n",
       "      <th>2012.0</th>\n",
       "      <td>13.0</td>\n",
       "      <td>25.961378</td>\n",
       "      <td>71.0</td>\n",
       "      <td>140.0</td>\n",
       "      <td>176.247158</td>\n",
       "      <td>221.000000</td>\n",
       "      <td>30.071474</td>\n",
       "      <td>71.173434</td>\n",
       "      <td>214.0</td>\n",
       "    </tr>\n",
       "    <tr>\n",
       "      <th>2014.0</th>\n",
       "      <td>15.0</td>\n",
       "      <td>25.987324</td>\n",
       "      <td>55.0</td>\n",
       "      <td>146.0</td>\n",
       "      <td>174.818773</td>\n",
       "      <td>206.000000</td>\n",
       "      <td>38.066881</td>\n",
       "      <td>70.572661</td>\n",
       "      <td>116.0</td>\n",
       "    </tr>\n",
       "    <tr>\n",
       "      <th>2016.0</th>\n",
       "      <td>13.0</td>\n",
       "      <td>26.207919</td>\n",
       "      <td>62.0</td>\n",
       "      <td>133.0</td>\n",
       "      <td>176.024469</td>\n",
       "      <td>218.000000</td>\n",
       "      <td>30.000000</td>\n",
       "      <td>70.966084</td>\n",
       "      <td>170.0</td>\n",
       "    </tr>\n",
       "  </tbody>\n",
       "</table>\n",
       "</div>"
      ],
      "text/plain": [
       "         Age                  Height                             Weight  \\\n",
       "         min       mean   max    min        mean         max        min   \n",
       "Year                                                                      \n",
       "1896.0  10.0  25.364356  40.0  154.0  173.569607  188.000000  45.000000   \n",
       "1900.0  13.0  28.454101  71.0  153.0  174.664627  191.000000  51.000000   \n",
       "1904.0  14.0  26.867754  71.0  155.0  174.435046  195.000000  43.000000   \n",
       "1906.0  13.0  27.272610  54.0  165.0  174.946975  196.000000  52.000000   \n",
       "1908.0  14.0  27.061116  61.0  157.0  175.059627  201.000000  51.000000   \n",
       "1912.0  13.0  27.528582  67.0  157.0  175.149494  200.000000  49.000000   \n",
       "1920.0  13.0  28.861062  72.0  142.0  175.220153  218.770915  33.074491   \n",
       "1924.0  11.0  28.101622  81.0  142.0  174.980222  218.578230  34.356723   \n",
       "1928.0  11.0  28.728275  97.0  147.0  175.282553  211.000000  41.000000   \n",
       "1932.0  11.0  32.002855  96.0  147.0  175.826347  200.000000  40.090648   \n",
       "1936.0  11.0  27.506104  74.0  147.0  175.155241  205.000000  37.000000   \n",
       "1948.0  12.0  28.407495  84.0  140.0  175.567741  213.000000  47.000000   \n",
       "1952.0  12.0  26.165217  65.0  150.0  174.812820  213.000000  42.000000   \n",
       "1956.0  12.0  25.949715  67.0  137.0  174.607226  218.000000  28.000000   \n",
       "1960.0  11.0  25.187182  65.0  137.0  173.316035  218.000000  36.000000   \n",
       "1964.0  12.0  24.948374  60.0  137.0  173.546073  218.000000  38.000000   \n",
       "1968.0  11.0  24.263374  68.0  127.0  173.959439  216.000000  34.000000   \n",
       "1972.0  12.0  24.318900  69.0  130.0  174.562405  223.000000  38.000000   \n",
       "1976.0  12.0  23.850452  70.0  136.0  174.865117  220.000000  30.000000   \n",
       "1980.0  13.0  23.734613  70.0  131.0  175.508742  220.000000  25.000000   \n",
       "1984.0  12.0  23.925675  60.0  132.0  175.524970  218.000000  31.000000   \n",
       "1988.0  11.0  24.085104  70.0  127.0  175.698459  223.000000  32.000000   \n",
       "1992.0  11.0  24.319680  62.0  136.0  175.959574  226.000000  30.000000   \n",
       "1994.0  13.0  24.422594  46.0  148.0  175.158296  200.000000  40.000000   \n",
       "1996.0  12.0  24.915179  63.0  136.0  175.836214  223.000000  30.000000   \n",
       "1998.0  14.0  25.163160  50.0  142.0  174.589636  200.000000  32.000000   \n",
       "2000.0  13.0  25.422476  63.0  136.0  176.085713  226.000000  28.000000   \n",
       "2002.0  15.0  25.916281  48.0  149.0  174.709888  201.000000  42.000000   \n",
       "2004.0  13.0  25.639515  57.0  139.0  175.971393  226.000000  30.000000   \n",
       "2006.0  14.0  25.959151  52.0  147.0  174.628393  206.000000  38.000000   \n",
       "2008.0  12.0  25.733541  67.0  137.0  176.209780  226.000000  28.000000   \n",
       "2010.0  15.0  26.124262  51.0  149.0  174.918873  206.000000  38.000000   \n",
       "2012.0  13.0  25.961378  71.0  140.0  176.247158  221.000000  30.071474   \n",
       "2014.0  15.0  25.987324  55.0  146.0  174.818773  206.000000  38.066881   \n",
       "2016.0  13.0  26.207919  62.0  133.0  176.024469  218.000000  30.000000   \n",
       "\n",
       "                          \n",
       "             mean    max  \n",
       "Year                      \n",
       "1896.0  70.982411  106.0  \n",
       "1900.0  72.502816  102.0  \n",
       "1904.0  71.715326  115.0  \n",
       "1906.0  72.309427  114.0  \n",
       "1908.0  72.484058  115.0  \n",
       "1912.0  72.354296  125.0  \n",
       "1920.0  72.791440  146.0  \n",
       "1924.0  72.217506  146.0  \n",
       "1928.0  72.568654  125.0  \n",
       "1932.0  73.867313  110.0  \n",
       "1936.0  71.960859  138.0  \n",
       "1948.0  72.408041  125.0  \n",
       "1952.0  71.097510  145.0  \n",
       "1956.0  71.041599  141.0  \n",
       "1960.0  69.480564  141.0  \n",
       "1964.0  69.759825  163.0  \n",
       "1968.0  69.609517  163.0  \n",
       "1972.0  70.003339  182.0  \n",
       "1976.0  70.000335  163.0  \n",
       "1980.0  70.624903  190.0  \n",
       "1984.0  70.257754  150.0  \n",
       "1988.0  70.443543  161.0  \n",
       "1992.0  70.862030  176.5  \n",
       "1994.0  70.972262  113.0  \n",
       "1996.0  70.818289  176.5  \n",
       "1998.0  70.898616  123.0  \n",
       "2000.0  71.106805  180.0  \n",
       "2002.0  71.164405  123.0  \n",
       "2004.0  71.284135  198.0  \n",
       "2006.0  70.512440  127.0  \n",
       "2008.0  71.375322  214.0  \n",
       "2010.0  70.733917  116.0  \n",
       "2012.0  71.173434  214.0  \n",
       "2014.0  70.572661  116.0  \n",
       "2016.0  70.966084  170.0  "
      ]
     },
     "execution_count": 72,
     "metadata": {},
     "output_type": "execute_result"
    }
   ],
   "source": [
    "oly_data.groupby('Year')[['Age','Height','Weight']].agg(['min', 'mean', 'max'])"
   ]
  },
  {
   "cell_type": "code",
   "execution_count": 73,
   "id": "0f1adfc9",
   "metadata": {},
   "outputs": [],
   "source": [
    "#What are the minimum, average, median, maximum Age of athletes for different Season and Sex combinations"
   ]
  },
  {
   "cell_type": "code",
   "execution_count": 74,
   "id": "75c2ba5a",
   "metadata": {},
   "outputs": [
    {
     "data": {
      "text/html": [
       "<div>\n",
       "<style scoped>\n",
       "    .dataframe tbody tr th:only-of-type {\n",
       "        vertical-align: middle;\n",
       "    }\n",
       "\n",
       "    .dataframe tbody tr th {\n",
       "        vertical-align: top;\n",
       "    }\n",
       "\n",
       "    .dataframe thead th {\n",
       "        text-align: right;\n",
       "    }\n",
       "</style>\n",
       "<table border=\"1\" class=\"dataframe\">\n",
       "  <thead>\n",
       "    <tr style=\"text-align: right;\">\n",
       "      <th></th>\n",
       "      <th></th>\n",
       "      <th>min</th>\n",
       "      <th>mean</th>\n",
       "      <th>median</th>\n",
       "      <th>max</th>\n",
       "    </tr>\n",
       "    <tr>\n",
       "      <th>Season</th>\n",
       "      <th>Sex</th>\n",
       "      <th></th>\n",
       "      <th></th>\n",
       "      <th></th>\n",
       "      <th></th>\n",
       "    </tr>\n",
       "  </thead>\n",
       "  <tbody>\n",
       "    <tr>\n",
       "      <th rowspan=\"2\" valign=\"top\">Summer</th>\n",
       "      <th>F</th>\n",
       "      <td>11.0</td>\n",
       "      <td>23.680377</td>\n",
       "      <td>23.0</td>\n",
       "      <td>74.0</td>\n",
       "    </tr>\n",
       "    <tr>\n",
       "      <th>M</th>\n",
       "      <td>10.0</td>\n",
       "      <td>26.464649</td>\n",
       "      <td>25.0</td>\n",
       "      <td>97.0</td>\n",
       "    </tr>\n",
       "    <tr>\n",
       "      <th rowspan=\"2\" valign=\"top\">Winter</th>\n",
       "      <th>F</th>\n",
       "      <td>11.0</td>\n",
       "      <td>24.015736</td>\n",
       "      <td>24.0</td>\n",
       "      <td>48.0</td>\n",
       "    </tr>\n",
       "    <tr>\n",
       "      <th>M</th>\n",
       "      <td>12.0</td>\n",
       "      <td>25.512635</td>\n",
       "      <td>25.0</td>\n",
       "      <td>58.0</td>\n",
       "    </tr>\n",
       "  </tbody>\n",
       "</table>\n",
       "</div>"
      ],
      "text/plain": [
       "             min       mean  median   max\n",
       "Season Sex                               \n",
       "Summer F    11.0  23.680377    23.0  74.0\n",
       "       M    10.0  26.464649    25.0  97.0\n",
       "Winter F    11.0  24.015736    24.0  48.0\n",
       "       M    12.0  25.512635    25.0  58.0"
      ]
     },
     "execution_count": 74,
     "metadata": {},
     "output_type": "execute_result"
    }
   ],
   "source": [
    "oly_data.groupby(['Season', 'Sex'])['Age'].agg(['min', 'mean', 'median', 'max'])"
   ]
  },
  {
   "cell_type": "code",
   "execution_count": 75,
   "id": "33234fc2",
   "metadata": {},
   "outputs": [],
   "source": [
    "#What are the average Age of athletes, and numbers of unique Team, Sport, Event, for different Season and Sex combinations"
   ]
  },
  {
   "cell_type": "code",
   "execution_count": 76,
   "id": "26147a3f",
   "metadata": {},
   "outputs": [
    {
     "data": {
      "text/html": [
       "<div>\n",
       "<style scoped>\n",
       "    .dataframe tbody tr th:only-of-type {\n",
       "        vertical-align: middle;\n",
       "    }\n",
       "\n",
       "    .dataframe tbody tr th {\n",
       "        vertical-align: top;\n",
       "    }\n",
       "\n",
       "    .dataframe thead th {\n",
       "        text-align: right;\n",
       "    }\n",
       "</style>\n",
       "<table border=\"1\" class=\"dataframe\">\n",
       "  <thead>\n",
       "    <tr style=\"text-align: right;\">\n",
       "      <th></th>\n",
       "      <th></th>\n",
       "      <th>Age</th>\n",
       "      <th>Team</th>\n",
       "      <th>Sport</th>\n",
       "      <th>Event</th>\n",
       "    </tr>\n",
       "    <tr>\n",
       "      <th>Season</th>\n",
       "      <th>Sex</th>\n",
       "      <th></th>\n",
       "      <th></th>\n",
       "      <th></th>\n",
       "      <th></th>\n",
       "    </tr>\n",
       "  </thead>\n",
       "  <tbody>\n",
       "    <tr>\n",
       "      <th rowspan=\"2\" valign=\"top\">Summer</th>\n",
       "      <th>F</th>\n",
       "      <td>23.680377</td>\n",
       "      <td>352</td>\n",
       "      <td>40</td>\n",
       "      <td>214</td>\n",
       "    </tr>\n",
       "    <tr>\n",
       "      <th>M</th>\n",
       "      <td>26.464649</td>\n",
       "      <td>1118</td>\n",
       "      <td>49</td>\n",
       "      <td>491</td>\n",
       "    </tr>\n",
       "    <tr>\n",
       "      <th rowspan=\"2\" valign=\"top\">Winter</th>\n",
       "      <th>F</th>\n",
       "      <td>24.015736</td>\n",
       "      <td>144</td>\n",
       "      <td>14</td>\n",
       "      <td>57</td>\n",
       "    </tr>\n",
       "    <tr>\n",
       "      <th>M</th>\n",
       "      <td>25.512635</td>\n",
       "      <td>214</td>\n",
       "      <td>17</td>\n",
       "      <td>67</td>\n",
       "    </tr>\n",
       "  </tbody>\n",
       "</table>\n",
       "</div>"
      ],
      "text/plain": [
       "                  Age  Team  Sport  Event\n",
       "Season Sex                               \n",
       "Summer F    23.680377   352     40    214\n",
       "       M    26.464649  1118     49    491\n",
       "Winter F    24.015736   144     14     57\n",
       "       M    25.512635   214     17     67"
      ]
     },
     "execution_count": 76,
     "metadata": {},
     "output_type": "execute_result"
    }
   ],
   "source": [
    "oly_data.groupby(['Season', 'Sex']).agg({'Age': 'mean', 'Team': 'nunique', 'Sport': 'nunique', 'Event': 'nunique'})"
   ]
  },
  {
   "cell_type": "code",
   "execution_count": 77,
   "id": "321df11d",
   "metadata": {},
   "outputs": [],
   "source": [
    "#What are the average Age, Height, Weight of athletes, for different Medal, Season, Sex combinations"
   ]
  },
  {
   "cell_type": "code",
   "execution_count": 78,
   "id": "9da1da85",
   "metadata": {},
   "outputs": [
    {
     "data": {
      "text/html": [
       "<div>\n",
       "<style scoped>\n",
       "    .dataframe tbody tr th:only-of-type {\n",
       "        vertical-align: middle;\n",
       "    }\n",
       "\n",
       "    .dataframe tbody tr th {\n",
       "        vertical-align: top;\n",
       "    }\n",
       "\n",
       "    .dataframe thead th {\n",
       "        text-align: right;\n",
       "    }\n",
       "</style>\n",
       "<table border=\"1\" class=\"dataframe\">\n",
       "  <thead>\n",
       "    <tr style=\"text-align: right;\">\n",
       "      <th></th>\n",
       "      <th></th>\n",
       "      <th></th>\n",
       "      <th>Age</th>\n",
       "      <th>Height</th>\n",
       "      <th>Weight</th>\n",
       "    </tr>\n",
       "    <tr>\n",
       "      <th>Medal</th>\n",
       "      <th>Season</th>\n",
       "      <th>Sex</th>\n",
       "      <th></th>\n",
       "      <th></th>\n",
       "      <th></th>\n",
       "    </tr>\n",
       "  </thead>\n",
       "  <tbody>\n",
       "    <tr>\n",
       "      <th rowspan=\"4\" valign=\"top\">Bronze</th>\n",
       "      <th rowspan=\"2\" valign=\"top\">Summer</th>\n",
       "      <th>F</th>\n",
       "      <td>24.637527</td>\n",
       "      <td>171.110734</td>\n",
       "      <td>63.903325</td>\n",
       "    </tr>\n",
       "    <tr>\n",
       "      <th>M</th>\n",
       "      <td>26.382673</td>\n",
       "      <td>179.283138</td>\n",
       "      <td>76.834194</td>\n",
       "    </tr>\n",
       "    <tr>\n",
       "      <th rowspan=\"2\" valign=\"top\">Winter</th>\n",
       "      <th>F</th>\n",
       "      <td>25.115578</td>\n",
       "      <td>167.339043</td>\n",
       "      <td>61.132946</td>\n",
       "    </tr>\n",
       "    <tr>\n",
       "      <th>M</th>\n",
       "      <td>26.387043</td>\n",
       "      <td>178.831087</td>\n",
       "      <td>77.296962</td>\n",
       "    </tr>\n",
       "    <tr>\n",
       "      <th rowspan=\"4\" valign=\"top\">Gold</th>\n",
       "      <th rowspan=\"2\" valign=\"top\">Summer</th>\n",
       "      <th>F</th>\n",
       "      <td>24.215093</td>\n",
       "      <td>171.594933</td>\n",
       "      <td>64.252235</td>\n",
       "    </tr>\n",
       "    <tr>\n",
       "      <th>M</th>\n",
       "      <td>26.501307</td>\n",
       "      <td>179.803255</td>\n",
       "      <td>77.426878</td>\n",
       "    </tr>\n",
       "    <tr>\n",
       "      <th rowspan=\"2\" valign=\"top\">Winter</th>\n",
       "      <th>F</th>\n",
       "      <td>25.202636</td>\n",
       "      <td>167.563734</td>\n",
       "      <td>62.006768</td>\n",
       "    </tr>\n",
       "    <tr>\n",
       "      <th>M</th>\n",
       "      <td>26.606436</td>\n",
       "      <td>179.569202</td>\n",
       "      <td>78.047604</td>\n",
       "    </tr>\n",
       "    <tr>\n",
       "      <th rowspan=\"4\" valign=\"top\">NA</th>\n",
       "      <th rowspan=\"2\" valign=\"top\">Summer</th>\n",
       "      <th>F</th>\n",
       "      <td>23.547521</td>\n",
       "      <td>168.283937</td>\n",
       "      <td>60.468257</td>\n",
       "    </tr>\n",
       "    <tr>\n",
       "      <th>M</th>\n",
       "      <td>26.454123</td>\n",
       "      <td>177.557129</td>\n",
       "      <td>74.215742</td>\n",
       "    </tr>\n",
       "    <tr>\n",
       "      <th rowspan=\"2\" valign=\"top\">Winter</th>\n",
       "      <th>F</th>\n",
       "      <td>23.855915</td>\n",
       "      <td>167.281733</td>\n",
       "      <td>60.539905</td>\n",
       "    </tr>\n",
       "    <tr>\n",
       "      <th>M</th>\n",
       "      <td>25.386328</td>\n",
       "      <td>177.741840</td>\n",
       "      <td>74.861337</td>\n",
       "    </tr>\n",
       "    <tr>\n",
       "      <th rowspan=\"4\" valign=\"top\">Silver</th>\n",
       "      <th rowspan=\"2\" valign=\"top\">Summer</th>\n",
       "      <th>F</th>\n",
       "      <td>24.296089</td>\n",
       "      <td>171.310947</td>\n",
       "      <td>63.903671</td>\n",
       "    </tr>\n",
       "    <tr>\n",
       "      <th>M</th>\n",
       "      <td>26.690500</td>\n",
       "      <td>179.391244</td>\n",
       "      <td>77.017761</td>\n",
       "    </tr>\n",
       "    <tr>\n",
       "      <th rowspan=\"2\" valign=\"top\">Winter</th>\n",
       "      <th>F</th>\n",
       "      <td>25.240527</td>\n",
       "      <td>167.916040</td>\n",
       "      <td>61.921625</td>\n",
       "    </tr>\n",
       "    <tr>\n",
       "      <th>M</th>\n",
       "      <td>26.430566</td>\n",
       "      <td>179.030573</td>\n",
       "      <td>77.429293</td>\n",
       "    </tr>\n",
       "  </tbody>\n",
       "</table>\n",
       "</div>"
      ],
      "text/plain": [
       "                         Age      Height     Weight\n",
       "Medal  Season Sex                                  \n",
       "Bronze Summer F    24.637527  171.110734  63.903325\n",
       "              M    26.382673  179.283138  76.834194\n",
       "       Winter F    25.115578  167.339043  61.132946\n",
       "              M    26.387043  178.831087  77.296962\n",
       "Gold   Summer F    24.215093  171.594933  64.252235\n",
       "              M    26.501307  179.803255  77.426878\n",
       "       Winter F    25.202636  167.563734  62.006768\n",
       "              M    26.606436  179.569202  78.047604\n",
       "NA     Summer F    23.547521  168.283937  60.468257\n",
       "              M    26.454123  177.557129  74.215742\n",
       "       Winter F    23.855915  167.281733  60.539905\n",
       "              M    25.386328  177.741840  74.861337\n",
       "Silver Summer F    24.296089  171.310947  63.903671\n",
       "              M    26.690500  179.391244  77.017761\n",
       "       Winter F    25.240527  167.916040  61.921625\n",
       "              M    26.430566  179.030573  77.429293"
      ]
     },
     "execution_count": 78,
     "metadata": {},
     "output_type": "execute_result"
    }
   ],
   "source": [
    "oly_data.groupby(['Medal', 'Season', 'Sex'])[['Age', 'Height', 'Weight']].mean()"
   ]
  },
  {
   "cell_type": "code",
   "execution_count": 79,
   "id": "c5628a95",
   "metadata": {},
   "outputs": [],
   "source": [
    "#Plot the scatterplot of Height and Weight"
   ]
  },
  {
   "cell_type": "code",
   "execution_count": 84,
   "id": "fd07a369",
   "metadata": {},
   "outputs": [
    {
     "data": {
      "text/plain": [
       "<seaborn.axisgrid.FacetGrid at 0x1b1132cd0f0>"
      ]
     },
     "execution_count": 84,
     "metadata": {},
     "output_type": "execute_result"
    },
    {
     "data": {
      "image/png": "[encoded data removed]",
      "text/plain": [
       "<Figure size 360x360 with 1 Axes>"
      ]
     },
     "metadata": {
      "needs_background": "light"
     },
     "output_type": "display_data"
    }
   ],
   "source": [
    "sns.relplot(data=oly_data,x='Height',y='Weight',kind='scatter')"
   ]
  },
  {
   "cell_type": "code",
   "execution_count": 85,
   "id": "84ef2358",
   "metadata": {},
   "outputs": [],
   "source": [
    "#Plot the scatterplot of Height and Weight, using different colors and styles of dots for different Sex"
   ]
  },
  {
   "cell_type": "code",
   "execution_count": 87,
   "id": "3a33b254",
   "metadata": {},
   "outputs": [
    {
     "data": {
      "text/plain": [
       "<seaborn.axisgrid.FacetGrid at 0x1b1132e5630>"
      ]
     },
     "execution_count": 87,
     "metadata": {},
     "output_type": "execute_result"
    },
    {
     "data": {
      "image/png": "[encoded data removed]",
      "text/plain": [
       "<Figure size 404.625x360 with 1 Axes>"
      ]
     },
     "metadata": {
      "needs_background": "light"
     },
     "output_type": "display_data"
    }
   ],
   "source": [
    "sns.relplot(data=oly_data,x='Height', y= 'Weight', hue='Sex', style='Sex')"
   ]
  },
  {
   "cell_type": "code",
   "execution_count": 88,
   "id": "b49fa664",
   "metadata": {},
   "outputs": [],
   "source": [
    "#Plot the pairwise relationships of Age, Height, Weight"
   ]
  },
  {
   "cell_type": "code",
   "execution_count": 89,
   "id": "755d20e1",
   "metadata": {},
   "outputs": [
    {
     "data": {
      "text/plain": [
       "<seaborn.axisgrid.PairGrid at 0x1b1134d0a90>"
      ]
     },
     "execution_count": 89,
     "metadata": {},
     "output_type": "execute_result"
    },
    {
     "data": {
      "image/png": "[encoded data removed]",
      "text/plain": [
       "<Figure size 540x540 with 12 Axes>"
      ]
     },
     "metadata": {
      "needs_background": "light"
     },
     "output_type": "display_data"
    }
   ],
   "source": [
    "sns.pairplot(oly_data[['Age','Weight','Height']])"
   ]
  },
  {
   "cell_type": "code",
   "execution_count": 90,
   "id": "29e584aa",
   "metadata": {},
   "outputs": [],
   "source": [
    "#Plot the pairwise relationships of Age, Height, Weight, with different colors for Sex"
   ]
  },
  {
   "cell_type": "code",
   "execution_count": 92,
   "id": "c0023cb2",
   "metadata": {},
   "outputs": [
    {
     "data": {
      "text/plain": [
       "<seaborn.axisgrid.PairGrid at 0x1b118211900>"
      ]
     },
     "execution_count": 92,
     "metadata": {},
     "output_type": "execute_result"
    },
    {
     "data": {
      "image/png": "[encoded data removed]",
      "text/plain": [
       "<Figure size 404.625x360 with 6 Axes>"
      ]
     },
     "metadata": {
      "needs_background": "light"
     },
     "output_type": "display_data"
    }
   ],
   "source": [
    "sns.pairplot(oly_data[['Age','Height','Sex']], hue='Sex')"
   ]
  },
  {
   "cell_type": "code",
   "execution_count": 93,
   "id": "6593358e",
   "metadata": {},
   "outputs": [],
   "source": [
    "#Print out the correlation matrix of Age, Height, Weight"
   ]
  },
  {
   "cell_type": "code",
   "execution_count": 95,
   "id": "8dc9e7b2",
   "metadata": {},
   "outputs": [
    {
     "data": {
      "text/html": [
       "<div>\n",
       "<style scoped>\n",
       "    .dataframe tbody tr th:only-of-type {\n",
       "        vertical-align: middle;\n",
       "    }\n",
       "\n",
       "    .dataframe tbody tr th {\n",
       "        vertical-align: top;\n",
       "    }\n",
       "\n",
       "    .dataframe thead th {\n",
       "        text-align: right;\n",
       "    }\n",
       "</style>\n",
       "<table border=\"1\" class=\"dataframe\">\n",
       "  <thead>\n",
       "    <tr style=\"text-align: right;\">\n",
       "      <th></th>\n",
       "      <th>Age</th>\n",
       "      <th>Height</th>\n",
       "      <th>Weight</th>\n",
       "    </tr>\n",
       "  </thead>\n",
       "  <tbody>\n",
       "    <tr>\n",
       "      <th>Age</th>\n",
       "      <td>1.000000</td>\n",
       "      <td>0.161797</td>\n",
       "      <td>0.264409</td>\n",
       "    </tr>\n",
       "    <tr>\n",
       "      <th>Height</th>\n",
       "      <td>0.161797</td>\n",
       "      <td>1.000000</td>\n",
       "      <td>0.799258</td>\n",
       "    </tr>\n",
       "    <tr>\n",
       "      <th>Weight</th>\n",
       "      <td>0.264409</td>\n",
       "      <td>0.799258</td>\n",
       "      <td>1.000000</td>\n",
       "    </tr>\n",
       "  </tbody>\n",
       "</table>\n",
       "</div>"
      ],
      "text/plain": [
       "             Age    Height    Weight\n",
       "Age     1.000000  0.161797  0.264409\n",
       "Height  0.161797  1.000000  0.799258\n",
       "Weight  0.264409  0.799258  1.000000"
      ]
     },
     "execution_count": 95,
     "metadata": {},
     "output_type": "execute_result"
    }
   ],
   "source": [
    "oly_data[['Age','Height','Weight']].corr()"
   ]
  },
  {
   "cell_type": "markdown",
   "id": "394a5116",
   "metadata": {},
   "source": [
    "Notice the strong positive relationship between Height and Weight, which is intuitive.\n"
   ]
  },
  {
   "cell_type": "code",
   "execution_count": 96,
   "id": "821c0df7",
   "metadata": {},
   "outputs": [],
   "source": [
    "#Use heatmap to demonstrate the correlation matrix of Age, Height, Weight, use a colormap (cmap) of 'crest'"
   ]
  },
  {
   "cell_type": "code",
   "execution_count": 97,
   "id": "a96a7750",
   "metadata": {},
   "outputs": [
    {
     "data": {
      "text/plain": [
       "<AxesSubplot:>"
      ]
     },
     "execution_count": 97,
     "metadata": {},
     "output_type": "execute_result"
    },
    {
     "data": {
      "image/png": "[encoded data removed]",
      "text/plain": [
       "<Figure size 432x288 with 2 Axes>"
      ]
     },
     "metadata": {
      "needs_background": "light"
     },
     "output_type": "display_data"
    }
   ],
   "source": [
    "sns.heatmap(oly_data[['Age','Height','Weight']].corr(), cmap='crest')"
   ]
  },
  {
   "cell_type": "code",
   "execution_count": 98,
   "id": "8b7ede46",
   "metadata": {},
   "outputs": [],
   "source": [
    "#Plot the histograms of Age, with different colors for different Sex"
   ]
  },
  {
   "cell_type": "code",
   "execution_count": 99,
   "id": "a9e021b7",
   "metadata": {},
   "outputs": [
    {
     "data": {
      "text/plain": [
       "<seaborn.axisgrid.FacetGrid at 0x1b118268670>"
      ]
     },
     "execution_count": 99,
     "metadata": {},
     "output_type": "execute_result"
    },
    {
     "data": {
      "image/png": "[encoded data removed]",
      "text/plain": [
       "<Figure size 764.625x360 with 1 Axes>"
      ]
     },
     "metadata": {
      "needs_background": "light"
     },
     "output_type": "display_data"
    }
   ],
   "source": [
    "sns.displot(data=oly_data,x='Age',hue='Sex',aspect=2)"
   ]
  },
  {
   "cell_type": "code",
   "execution_count": 101,
   "id": "1194a583",
   "metadata": {},
   "outputs": [
    {
     "data": {
      "text/plain": [
       "<seaborn.axisgrid.FacetGrid at 0x1b113342920>"
      ]
     },
     "execution_count": 101,
     "metadata": {},
     "output_type": "execute_result"
    },
    {
     "data": {
      "image/png": "[encoded data removed]",
      "text/plain": [
       "<Figure size 1440x360 with 2 Axes>"
      ]
     },
     "metadata": {
      "needs_background": "light"
     },
     "output_type": "display_data"
    }
   ],
   "source": [
    "sns.displot(data=oly_data,x='Age',col='Sex', aspect=2) "
   ]
  },
  {
   "cell_type": "code",
   "execution_count": 102,
   "id": "fb73e52c",
   "metadata": {},
   "outputs": [],
   "source": [
    "#Look at the changes of average Age across Year by line charts, with separate lines for different Season using different colors"
   ]
  },
  {
   "cell_type": "code",
   "execution_count": 103,
   "id": "1ffde34b",
   "metadata": {},
   "outputs": [
    {
     "data": {
      "text/plain": [
       "<seaborn.axisgrid.FacetGrid at 0x1b115dd9180>"
      ]
     },
     "execution_count": 103,
     "metadata": {},
     "output_type": "execute_result"
    },
    {
     "data": {
      "image/png": "[encoded data removed]",
      "text/plain": [
       "<Figure size 798.125x360 with 1 Axes>"
      ]
     },
     "metadata": {
      "needs_background": "light"
     },
     "output_type": "display_data"
    }
   ],
   "source": [
    "sns.relplot(data=oly_data,x='Year',y='Age',hue='Season',kind='line', aspect=2)"
   ]
  },
  {
   "cell_type": "code",
   "execution_count": 104,
   "id": "fc3e6055",
   "metadata": {},
   "outputs": [],
   "source": [
    "#Look at the distributions of Age for different Sex using boxplots"
   ]
  },
  {
   "cell_type": "code",
   "execution_count": 106,
   "id": "b58f1e45",
   "metadata": {},
   "outputs": [
    {
     "data": {
      "text/plain": [
       "<seaborn.axisgrid.FacetGrid at 0x1b117ea5120>"
      ]
     },
     "execution_count": 106,
     "metadata": {},
     "output_type": "execute_result"
    },
    {
     "data": {
      "image/png": "[encoded data removed]",
      "text/plain": [
       "<Figure size 360x360 with 1 Axes>"
      ]
     },
     "metadata": {
      "needs_background": "light"
     },
     "output_type": "display_data"
    }
   ],
   "source": [
    "sns.catplot(data=oly_data, x='Sex', y='Age', kind='box')"
   ]
  },
  {
   "cell_type": "code",
   "execution_count": 107,
   "id": "8708163f",
   "metadata": {},
   "outputs": [],
   "source": [
    "#Look at the distributions of Age for different Sex using violin plots"
   ]
  },
  {
   "cell_type": "code",
   "execution_count": 109,
   "id": "76d18396",
   "metadata": {},
   "outputs": [
    {
     "data": {
      "text/plain": [
       "<seaborn.axisgrid.FacetGrid at 0x1b1239c5720>"
      ]
     },
     "execution_count": 109,
     "metadata": {},
     "output_type": "execute_result"
    },
    {
     "data": {
      "image/png": "[encoded data removed]",
      "text/plain": [
       "<Figure size 360x360 with 1 Axes>"
      ]
     },
     "metadata": {
      "needs_background": "light"
     },
     "output_type": "display_data"
    }
   ],
   "source": [
    "sns.catplot(data=oly_data, x='Sex',y='Age', kind='violin')"
   ]
  },
  {
   "cell_type": "code",
   "execution_count": 110,
   "id": "4d1e15e3",
   "metadata": {},
   "outputs": [],
   "source": [
    "#Look at the distributions of Age for different Sex using boxplots, with different colors of plots for different Season"
   ]
  },
  {
   "cell_type": "code",
   "execution_count": 111,
   "id": "744cad77",
   "metadata": {},
   "outputs": [
    {
     "data": {
      "text/plain": [
       "<seaborn.axisgrid.FacetGrid at 0x1b1239c9630>"
      ]
     },
     "execution_count": 111,
     "metadata": {},
     "output_type": "execute_result"
    },
    {
     "data": {
      "image/png": "[encoded data removed]",
      "text/plain": [
       "<Figure size 438.125x360 with 1 Axes>"
      ]
     },
     "metadata": {
      "needs_background": "light"
     },
     "output_type": "display_data"
    }
   ],
   "source": [
    "sns.catplot(data=oly_data, x='Sex', y='Age', kind='box', hue=\"Season\")"
   ]
  },
  {
   "cell_type": "code",
   "execution_count": 114,
   "id": "8289e726",
   "metadata": {},
   "outputs": [],
   "source": [
    "#Use count plots to look at the changes of number of athlete-events across Year, \n",
    "#for different Sex by colors, and different Season on separate plots"
   ]
  },
  {
   "cell_type": "code",
   "execution_count": 118,
   "id": "fbb7bf99",
   "metadata": {},
   "outputs": [
    {
     "data": {
      "text/plain": [
       "<seaborn.axisgrid.FacetGrid at 0x1b136e1abf0>"
      ]
     },
     "execution_count": 118,
     "metadata": {},
     "output_type": "execute_result"
    },
    {
     "data": {
      "image/png": "[encoded data removed]",
      "text/plain": [
       "<Figure size 1484.62x720 with 2 Axes>"
      ]
     },
     "metadata": {
      "needs_background": "light"
     },
     "output_type": "display_data"
    }
   ],
   "source": [
    "sns.catplot(data=oly_data,x='Year', hue='Sex', kind='count', col='Season', col_wrap=1, aspect=4)"
   ]
  },
  {
   "cell_type": "code",
   "execution_count": null,
   "id": "5a52d5d0",
   "metadata": {},
   "outputs": [],
   "source": []
  }
 ],
 "metadata": {
  "kernelspec": {
   "display_name": "Python 3 (ipykernel)",
   "language": "python",
   "name": "python3"
  },
  "language_info": {
   "codemirror_mode": {
    "name": "ipython",
    "version": 3
   },
   "file_extension": ".py",
   "mimetype": "text/x-python",
   "name": "python",
   "nbconvert_exporter": "python",
   "pygments_lexer": "ipython3",
   "version": "3.10.4"
  }
 },
 "nbformat": 4,
 "nbformat_minor": 5
}
